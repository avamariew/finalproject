{
 "cells": [
  {
   "cell_type": "markdown",
   "id": "bf729f69",
   "metadata": {},
   "source": [
    "# Disney+ Analysis"
   ]
  },
  {
   "cell_type": "code",
   "execution_count": 2,
   "id": "9f569016",
   "metadata": {},
   "outputs": [],
   "source": [
    "# load libraries"
   ]
  },
  {
   "cell_type": "code",
   "execution_count": 172,
   "id": "29cf8bfd",
   "metadata": {},
   "outputs": [],
   "source": [
    "import pandas as pd\n",
    "import numpy as np\n",
    "import seaborn as sns\n",
    "import matplotlib.pyplot as plt\n",
    "import pandas.plotting\n",
    "import scipy\n",
    "from scipy import stats"
   ]
  },
  {
   "cell_type": "code",
   "execution_count": 6,
   "id": "eb587f26",
   "metadata": {},
   "outputs": [],
   "source": [
    "# load data"
   ]
  },
  {
   "cell_type": "code",
   "execution_count": 4,
   "id": "7888fac9",
   "metadata": {},
   "outputs": [],
   "source": [
    "disneydf = pd.read_csv(r\"C:\\Users\\avama\\GitHub\\Repo2\\Final-Project\\Data\\disney_plus_shows.csv\")"
   ]
  },
  {
   "cell_type": "code",
   "execution_count": 5,
   "id": "e31d9e72",
   "metadata": {},
   "outputs": [
    {
     "data": {
      "text/html": [
       "<div>\n",
       "<style scoped>\n",
       "    .dataframe tbody tr th:only-of-type {\n",
       "        vertical-align: middle;\n",
       "    }\n",
       "\n",
       "    .dataframe tbody tr th {\n",
       "        vertical-align: top;\n",
       "    }\n",
       "\n",
       "    .dataframe thead th {\n",
       "        text-align: right;\n",
       "    }\n",
       "</style>\n",
       "<table border=\"1\" class=\"dataframe\">\n",
       "  <thead>\n",
       "    <tr style=\"text-align: right;\">\n",
       "      <th></th>\n",
       "      <th>imdb_id</th>\n",
       "      <th>title</th>\n",
       "      <th>plot</th>\n",
       "      <th>type</th>\n",
       "      <th>rated</th>\n",
       "      <th>year</th>\n",
       "      <th>released_at</th>\n",
       "      <th>added_at</th>\n",
       "      <th>runtime</th>\n",
       "      <th>genre</th>\n",
       "      <th>director</th>\n",
       "      <th>writer</th>\n",
       "      <th>actors</th>\n",
       "      <th>language</th>\n",
       "      <th>country</th>\n",
       "      <th>awards</th>\n",
       "      <th>metascore</th>\n",
       "      <th>imdb_rating</th>\n",
       "      <th>imdb_votes</th>\n",
       "    </tr>\n",
       "  </thead>\n",
       "  <tbody>\n",
       "    <tr>\n",
       "      <th>0</th>\n",
       "      <td>tt0147800</td>\n",
       "      <td>10 Things I Hate About You</td>\n",
       "      <td>A pretty, popular teenager can't go out on a d...</td>\n",
       "      <td>movie</td>\n",
       "      <td>PG-13</td>\n",
       "      <td>1999</td>\n",
       "      <td>31 Mar 1999</td>\n",
       "      <td>November 12, 2019</td>\n",
       "      <td>97 min</td>\n",
       "      <td>Comedy, Drama, Romance</td>\n",
       "      <td>Gil Junger</td>\n",
       "      <td>Karen McCullah, Kirsten Smith</td>\n",
       "      <td>Heath Ledger, Julia Stiles, Joseph Gordon-Levi...</td>\n",
       "      <td>English, French</td>\n",
       "      <td>USA</td>\n",
       "      <td>2 wins &amp; 13 nominations.</td>\n",
       "      <td>70.0</td>\n",
       "      <td>7.3</td>\n",
       "      <td>283,945</td>\n",
       "    </tr>\n",
       "    <tr>\n",
       "      <th>1</th>\n",
       "      <td>tt7019028</td>\n",
       "      <td>101 Dalmatian Street</td>\n",
       "      <td>This series follows the lives of Delilah and D...</td>\n",
       "      <td>series</td>\n",
       "      <td>NaN</td>\n",
       "      <td>2018–</td>\n",
       "      <td>25 Mar 2019</td>\n",
       "      <td>February 28, 2020</td>\n",
       "      <td>NaN</td>\n",
       "      <td>Animation, Comedy, Family</td>\n",
       "      <td>NaN</td>\n",
       "      <td>NaN</td>\n",
       "      <td>Josh Brener, Michaela Dietz, Bert Davis, Abiga...</td>\n",
       "      <td>English</td>\n",
       "      <td>UK, USA, Canada</td>\n",
       "      <td>NaN</td>\n",
       "      <td>NaN</td>\n",
       "      <td>6.2</td>\n",
       "      <td>124</td>\n",
       "    </tr>\n",
       "    <tr>\n",
       "      <th>2</th>\n",
       "      <td>tt0115433</td>\n",
       "      <td>101 Dalmatians</td>\n",
       "      <td>An evil high-fashion designer plots to steal D...</td>\n",
       "      <td>movie</td>\n",
       "      <td>G</td>\n",
       "      <td>1996</td>\n",
       "      <td>27 Nov 1996</td>\n",
       "      <td>November 12, 2019</td>\n",
       "      <td>103 min</td>\n",
       "      <td>Adventure, Comedy, Crime, Family</td>\n",
       "      <td>Stephen Herek</td>\n",
       "      <td>Dodie Smith (novel), John Hughes (screenplay)</td>\n",
       "      <td>Glenn Close, Jeff Daniels, Joely Richardson, J...</td>\n",
       "      <td>English, Spanish</td>\n",
       "      <td>USA, UK</td>\n",
       "      <td>Nominated for 1 Golden Globe. Another 3 wins &amp;...</td>\n",
       "      <td>49.0</td>\n",
       "      <td>5.7</td>\n",
       "      <td>97,785</td>\n",
       "    </tr>\n",
       "    <tr>\n",
       "      <th>3</th>\n",
       "      <td>tt0324941</td>\n",
       "      <td>101 Dalmatians 2: Patch's London Adventure</td>\n",
       "      <td>Being one of 101 takes its toll on Patch, who ...</td>\n",
       "      <td>movie</td>\n",
       "      <td>G</td>\n",
       "      <td>2002</td>\n",
       "      <td>21 Jan 2003</td>\n",
       "      <td>November 12, 2019</td>\n",
       "      <td>74 min</td>\n",
       "      <td>Animation, Adventure, Comedy, Family, Musical</td>\n",
       "      <td>Jim Kammerud, Brian Smith</td>\n",
       "      <td>Jim Kammerud (story), Dan Root (story), Garret...</td>\n",
       "      <td>Barry Bostwick, Jason Alexander, Martin Short,...</td>\n",
       "      <td>English</td>\n",
       "      <td>USA</td>\n",
       "      <td>5 wins &amp; 10 nominations.</td>\n",
       "      <td>NaN</td>\n",
       "      <td>5.8</td>\n",
       "      <td>7,434</td>\n",
       "    </tr>\n",
       "    <tr>\n",
       "      <th>4</th>\n",
       "      <td>tt0211181</td>\n",
       "      <td>102 Dalmatians</td>\n",
       "      <td>Cruella DeVil gets out of prison and goes afte...</td>\n",
       "      <td>movie</td>\n",
       "      <td>G</td>\n",
       "      <td>2000</td>\n",
       "      <td>22 Nov 2000</td>\n",
       "      <td>November 12, 2019</td>\n",
       "      <td>100 min</td>\n",
       "      <td>Adventure, Comedy, Family</td>\n",
       "      <td>Kevin Lima</td>\n",
       "      <td>Dodie Smith (novel), Kristen Buckley (story), ...</td>\n",
       "      <td>Glenn Close, Gérard Depardieu, Ioan Gruffudd, ...</td>\n",
       "      <td>English</td>\n",
       "      <td>USA, UK</td>\n",
       "      <td>Nominated for 1 Oscar. Another 1 win &amp; 7 nomin...</td>\n",
       "      <td>35.0</td>\n",
       "      <td>4.9</td>\n",
       "      <td>33,444</td>\n",
       "    </tr>\n",
       "  </tbody>\n",
       "</table>\n",
       "</div>"
      ],
      "text/plain": [
       "     imdb_id                                       title  \\\n",
       "0  tt0147800                  10 Things I Hate About You   \n",
       "1  tt7019028                        101 Dalmatian Street   \n",
       "2  tt0115433                              101 Dalmatians   \n",
       "3  tt0324941  101 Dalmatians 2: Patch's London Adventure   \n",
       "4  tt0211181                              102 Dalmatians   \n",
       "\n",
       "                                                plot    type  rated   year  \\\n",
       "0  A pretty, popular teenager can't go out on a d...   movie  PG-13   1999   \n",
       "1  This series follows the lives of Delilah and D...  series    NaN  2018–   \n",
       "2  An evil high-fashion designer plots to steal D...   movie      G   1996   \n",
       "3  Being one of 101 takes its toll on Patch, who ...   movie      G   2002   \n",
       "4  Cruella DeVil gets out of prison and goes afte...   movie      G   2000   \n",
       "\n",
       "   released_at           added_at  runtime  \\\n",
       "0  31 Mar 1999  November 12, 2019   97 min   \n",
       "1  25 Mar 2019  February 28, 2020      NaN   \n",
       "2  27 Nov 1996  November 12, 2019  103 min   \n",
       "3  21 Jan 2003  November 12, 2019   74 min   \n",
       "4  22 Nov 2000  November 12, 2019  100 min   \n",
       "\n",
       "                                           genre                   director  \\\n",
       "0                         Comedy, Drama, Romance                 Gil Junger   \n",
       "1                      Animation, Comedy, Family                        NaN   \n",
       "2               Adventure, Comedy, Crime, Family              Stephen Herek   \n",
       "3  Animation, Adventure, Comedy, Family, Musical  Jim Kammerud, Brian Smith   \n",
       "4                      Adventure, Comedy, Family                 Kevin Lima   \n",
       "\n",
       "                                              writer  \\\n",
       "0                      Karen McCullah, Kirsten Smith   \n",
       "1                                                NaN   \n",
       "2      Dodie Smith (novel), John Hughes (screenplay)   \n",
       "3  Jim Kammerud (story), Dan Root (story), Garret...   \n",
       "4  Dodie Smith (novel), Kristen Buckley (story), ...   \n",
       "\n",
       "                                              actors          language  \\\n",
       "0  Heath Ledger, Julia Stiles, Joseph Gordon-Levi...   English, French   \n",
       "1  Josh Brener, Michaela Dietz, Bert Davis, Abiga...           English   \n",
       "2  Glenn Close, Jeff Daniels, Joely Richardson, J...  English, Spanish   \n",
       "3  Barry Bostwick, Jason Alexander, Martin Short,...           English   \n",
       "4  Glenn Close, Gérard Depardieu, Ioan Gruffudd, ...           English   \n",
       "\n",
       "           country                                             awards  \\\n",
       "0              USA                           2 wins & 13 nominations.   \n",
       "1  UK, USA, Canada                                                NaN   \n",
       "2          USA, UK  Nominated for 1 Golden Globe. Another 3 wins &...   \n",
       "3              USA                           5 wins & 10 nominations.   \n",
       "4          USA, UK  Nominated for 1 Oscar. Another 1 win & 7 nomin...   \n",
       "\n",
       "   metascore  imdb_rating imdb_votes  \n",
       "0       70.0          7.3    283,945  \n",
       "1        NaN          6.2        124  \n",
       "2       49.0          5.7     97,785  \n",
       "3        NaN          5.8      7,434  \n",
       "4       35.0          4.9     33,444  "
      ]
     },
     "execution_count": 5,
     "metadata": {},
     "output_type": "execute_result"
    }
   ],
   "source": [
    "disneydf.head()"
   ]
  },
  {
   "cell_type": "markdown",
   "id": "e1da1f1c",
   "metadata": {},
   "source": [
    "### Data Wranging"
   ]
  },
  {
   "cell_type": "code",
   "execution_count": 9,
   "id": "ba5afe11",
   "metadata": {},
   "outputs": [],
   "source": [
    "# drop superfluous columns"
   ]
  },
  {
   "cell_type": "code",
   "execution_count": 6,
   "id": "9aa48dec",
   "metadata": {},
   "outputs": [],
   "source": [
    "disneydf.drop(['imdb_id'], axis=1, inplace=True)\n",
    "disneydf.drop(['plot'], axis=1, inplace=True)\n",
    "disneydf.drop(['released_at'], axis=1, inplace=True)\n",
    "disneydf.drop(['runtime'], axis=1, inplace=True)\n",
    "disneydf.drop(['director'], axis=1, inplace=True)\n",
    "disneydf.drop(['writer'], axis=1, inplace=True)\n",
    "disneydf.drop(['actors'], axis=1, inplace=True)\n",
    "disneydf.drop(['awards'], axis=1, inplace=True)\n",
    "disneydf.drop(['metascore'], axis=1, inplace=True)\n",
    "disneydf.drop(['imdb_votes'], axis=1, inplace=True)"
   ]
  },
  {
   "cell_type": "code",
   "execution_count": 7,
   "id": "1ac0c2ef",
   "metadata": {},
   "outputs": [
    {
     "data": {
      "text/html": [
       "<div>\n",
       "<style scoped>\n",
       "    .dataframe tbody tr th:only-of-type {\n",
       "        vertical-align: middle;\n",
       "    }\n",
       "\n",
       "    .dataframe tbody tr th {\n",
       "        vertical-align: top;\n",
       "    }\n",
       "\n",
       "    .dataframe thead th {\n",
       "        text-align: right;\n",
       "    }\n",
       "</style>\n",
       "<table border=\"1\" class=\"dataframe\">\n",
       "  <thead>\n",
       "    <tr style=\"text-align: right;\">\n",
       "      <th></th>\n",
       "      <th>title</th>\n",
       "      <th>type</th>\n",
       "      <th>rated</th>\n",
       "      <th>year</th>\n",
       "      <th>added_at</th>\n",
       "      <th>genre</th>\n",
       "      <th>language</th>\n",
       "      <th>country</th>\n",
       "      <th>imdb_rating</th>\n",
       "    </tr>\n",
       "  </thead>\n",
       "  <tbody>\n",
       "    <tr>\n",
       "      <th>0</th>\n",
       "      <td>10 Things I Hate About You</td>\n",
       "      <td>movie</td>\n",
       "      <td>PG-13</td>\n",
       "      <td>1999</td>\n",
       "      <td>November 12, 2019</td>\n",
       "      <td>Comedy, Drama, Romance</td>\n",
       "      <td>English, French</td>\n",
       "      <td>USA</td>\n",
       "      <td>7.3</td>\n",
       "    </tr>\n",
       "    <tr>\n",
       "      <th>1</th>\n",
       "      <td>101 Dalmatian Street</td>\n",
       "      <td>series</td>\n",
       "      <td>NaN</td>\n",
       "      <td>2018–</td>\n",
       "      <td>February 28, 2020</td>\n",
       "      <td>Animation, Comedy, Family</td>\n",
       "      <td>English</td>\n",
       "      <td>UK, USA, Canada</td>\n",
       "      <td>6.2</td>\n",
       "    </tr>\n",
       "    <tr>\n",
       "      <th>2</th>\n",
       "      <td>101 Dalmatians</td>\n",
       "      <td>movie</td>\n",
       "      <td>G</td>\n",
       "      <td>1996</td>\n",
       "      <td>November 12, 2019</td>\n",
       "      <td>Adventure, Comedy, Crime, Family</td>\n",
       "      <td>English, Spanish</td>\n",
       "      <td>USA, UK</td>\n",
       "      <td>5.7</td>\n",
       "    </tr>\n",
       "    <tr>\n",
       "      <th>3</th>\n",
       "      <td>101 Dalmatians 2: Patch's London Adventure</td>\n",
       "      <td>movie</td>\n",
       "      <td>G</td>\n",
       "      <td>2002</td>\n",
       "      <td>November 12, 2019</td>\n",
       "      <td>Animation, Adventure, Comedy, Family, Musical</td>\n",
       "      <td>English</td>\n",
       "      <td>USA</td>\n",
       "      <td>5.8</td>\n",
       "    </tr>\n",
       "    <tr>\n",
       "      <th>4</th>\n",
       "      <td>102 Dalmatians</td>\n",
       "      <td>movie</td>\n",
       "      <td>G</td>\n",
       "      <td>2000</td>\n",
       "      <td>November 12, 2019</td>\n",
       "      <td>Adventure, Comedy, Family</td>\n",
       "      <td>English</td>\n",
       "      <td>USA, UK</td>\n",
       "      <td>4.9</td>\n",
       "    </tr>\n",
       "  </tbody>\n",
       "</table>\n",
       "</div>"
      ],
      "text/plain": [
       "                                        title    type  rated   year  \\\n",
       "0                  10 Things I Hate About You   movie  PG-13   1999   \n",
       "1                        101 Dalmatian Street  series    NaN  2018–   \n",
       "2                              101 Dalmatians   movie      G   1996   \n",
       "3  101 Dalmatians 2: Patch's London Adventure   movie      G   2002   \n",
       "4                              102 Dalmatians   movie      G   2000   \n",
       "\n",
       "            added_at                                          genre  \\\n",
       "0  November 12, 2019                         Comedy, Drama, Romance   \n",
       "1  February 28, 2020                      Animation, Comedy, Family   \n",
       "2  November 12, 2019               Adventure, Comedy, Crime, Family   \n",
       "3  November 12, 2019  Animation, Adventure, Comedy, Family, Musical   \n",
       "4  November 12, 2019                      Adventure, Comedy, Family   \n",
       "\n",
       "           language          country  imdb_rating  \n",
       "0   English, French              USA          7.3  \n",
       "1           English  UK, USA, Canada          6.2  \n",
       "2  English, Spanish          USA, UK          5.7  \n",
       "3           English              USA          5.8  \n",
       "4           English          USA, UK          4.9  "
      ]
     },
     "execution_count": 7,
     "metadata": {},
     "output_type": "execute_result"
    }
   ],
   "source": [
    "disneydf.head()"
   ]
  },
  {
   "cell_type": "code",
   "execution_count": 12,
   "id": "480ceec7",
   "metadata": {},
   "outputs": [],
   "source": [
    "# detect and remove null values"
   ]
  },
  {
   "cell_type": "code",
   "execution_count": 13,
   "id": "2cc78022",
   "metadata": {},
   "outputs": [
    {
     "data": {
      "text/plain": [
       "title           98\n",
       "type            98\n",
       "rated          250\n",
       "year            98\n",
       "added_at         0\n",
       "genre          107\n",
       "language       127\n",
       "country        123\n",
       "imdb_rating    113\n",
       "dtype: int64"
      ]
     },
     "execution_count": 13,
     "metadata": {},
     "output_type": "execute_result"
    }
   ],
   "source": [
    "disneydf.isnull().sum()"
   ]
  },
  {
   "cell_type": "code",
   "execution_count": 14,
   "id": "f1b5d88a",
   "metadata": {},
   "outputs": [],
   "source": [
    "# removing all null values"
   ]
  },
  {
   "cell_type": "code",
   "execution_count": 14,
   "id": "1d1dd1b9",
   "metadata": {},
   "outputs": [],
   "source": [
    "disneydf.dropna(inplace=True)"
   ]
  },
  {
   "cell_type": "code",
   "execution_count": 16,
   "id": "55498848",
   "metadata": {},
   "outputs": [],
   "source": [
    "# double check for null values"
   ]
  },
  {
   "cell_type": "code",
   "execution_count": 15,
   "id": "730d6e75",
   "metadata": {},
   "outputs": [
    {
     "data": {
      "text/plain": [
       "title          0\n",
       "type           0\n",
       "rated          0\n",
       "year           0\n",
       "added_at       0\n",
       "genre          0\n",
       "language       0\n",
       "country        0\n",
       "imdb_rating    0\n",
       "dtype: int64"
      ]
     },
     "execution_count": 15,
     "metadata": {},
     "output_type": "execute_result"
    }
   ],
   "source": [
    "disneydf.isnull().sum()"
   ]
  },
  {
   "cell_type": "code",
   "execution_count": 18,
   "id": "5d9d9273",
   "metadata": {},
   "outputs": [],
   "source": [
    "# merge columns with capitalization differences"
   ]
  },
  {
   "cell_type": "code",
   "execution_count": 16,
   "id": "8968be2d",
   "metadata": {},
   "outputs": [],
   "source": [
    "disneydf['rated'] = disneydf['rated'].replace({'APPROVED':'Approved'})\n",
    "disneydf['rated'] = disneydf['rated'].replace({'PASSED':'Passed'})\n",
    "disneydf['rated'] = disneydf['rated'].replace({'UNRATED':'Unrated'})\n",
    "disneydf['rated'] = disneydf['rated'].replace({'NOT RATED':'Not Rated'})"
   ]
  },
  {
   "cell_type": "code",
   "execution_count": 20,
   "id": "52492493",
   "metadata": {},
   "outputs": [],
   "source": [
    "# make sure columns are together"
   ]
  },
  {
   "cell_type": "code",
   "execution_count": 17,
   "id": "ff69f3ed",
   "metadata": {},
   "outputs": [
    {
     "data": {
      "text/plain": [
       "array(['PG-13', 'G', 'PG', 'Approved', 'TV-G', 'Not Rated', 'TV-PG',\n",
       "       'Unrated', 'TV-Y7', 'TV-Y', 'Passed', 'TV-14', 'TV-Y7-FV'],\n",
       "      dtype=object)"
      ]
     },
     "execution_count": 17,
     "metadata": {},
     "output_type": "execute_result"
    }
   ],
   "source": [
    "disneydf.rated.unique()"
   ]
  },
  {
   "cell_type": "code",
   "execution_count": null,
   "id": "c6c6e92d",
   "metadata": {},
   "outputs": [],
   "source": [
    "# save new csv"
   ]
  },
  {
   "cell_type": "code",
   "execution_count": 22,
   "id": "742fed4e",
   "metadata": {},
   "outputs": [],
   "source": [
    "disneydf.to_csv(\"new_disney_shows.csv\", index = False)"
   ]
  },
  {
   "cell_type": "code",
   "execution_count": null,
   "id": "658c59fd",
   "metadata": {},
   "outputs": [],
   "source": [
    "# load new csv"
   ]
  },
  {
   "cell_type": "code",
   "execution_count": 128,
   "id": "db93f232",
   "metadata": {},
   "outputs": [],
   "source": [
    "newdisney = pd.read_csv(\"new_disney_shows.csv\")"
   ]
  },
  {
   "cell_type": "code",
   "execution_count": 129,
   "id": "736125de",
   "metadata": {},
   "outputs": [
    {
     "data": {
      "text/html": [
       "<div>\n",
       "<style scoped>\n",
       "    .dataframe tbody tr th:only-of-type {\n",
       "        vertical-align: middle;\n",
       "    }\n",
       "\n",
       "    .dataframe tbody tr th {\n",
       "        vertical-align: top;\n",
       "    }\n",
       "\n",
       "    .dataframe thead th {\n",
       "        text-align: right;\n",
       "    }\n",
       "</style>\n",
       "<table border=\"1\" class=\"dataframe\">\n",
       "  <thead>\n",
       "    <tr style=\"text-align: right;\">\n",
       "      <th></th>\n",
       "      <th>title</th>\n",
       "      <th>type</th>\n",
       "      <th>rated</th>\n",
       "      <th>year</th>\n",
       "      <th>added_at</th>\n",
       "      <th>genre</th>\n",
       "      <th>language</th>\n",
       "      <th>country</th>\n",
       "      <th>imdb_rating</th>\n",
       "    </tr>\n",
       "  </thead>\n",
       "  <tbody>\n",
       "    <tr>\n",
       "      <th>0</th>\n",
       "      <td>10 Things I Hate About You</td>\n",
       "      <td>movie</td>\n",
       "      <td>PG-13</td>\n",
       "      <td>1999</td>\n",
       "      <td>November 12, 2019</td>\n",
       "      <td>Comedy, Drama, Romance</td>\n",
       "      <td>English, French</td>\n",
       "      <td>USA</td>\n",
       "      <td>7.3</td>\n",
       "    </tr>\n",
       "    <tr>\n",
       "      <th>1</th>\n",
       "      <td>101 Dalmatians</td>\n",
       "      <td>movie</td>\n",
       "      <td>G</td>\n",
       "      <td>1996</td>\n",
       "      <td>November 12, 2019</td>\n",
       "      <td>Adventure, Comedy, Crime, Family</td>\n",
       "      <td>English, Spanish</td>\n",
       "      <td>USA, UK</td>\n",
       "      <td>5.7</td>\n",
       "    </tr>\n",
       "    <tr>\n",
       "      <th>2</th>\n",
       "      <td>101 Dalmatians 2: Patch's London Adventure</td>\n",
       "      <td>movie</td>\n",
       "      <td>G</td>\n",
       "      <td>2002</td>\n",
       "      <td>November 12, 2019</td>\n",
       "      <td>Animation, Adventure, Comedy, Family, Musical</td>\n",
       "      <td>English</td>\n",
       "      <td>USA</td>\n",
       "      <td>5.8</td>\n",
       "    </tr>\n",
       "    <tr>\n",
       "      <th>3</th>\n",
       "      <td>102 Dalmatians</td>\n",
       "      <td>movie</td>\n",
       "      <td>G</td>\n",
       "      <td>2000</td>\n",
       "      <td>November 12, 2019</td>\n",
       "      <td>Adventure, Comedy, Family</td>\n",
       "      <td>English</td>\n",
       "      <td>USA, UK</td>\n",
       "      <td>4.9</td>\n",
       "    </tr>\n",
       "    <tr>\n",
       "      <th>4</th>\n",
       "      <td>12 Dates of Christmas</td>\n",
       "      <td>movie</td>\n",
       "      <td>PG</td>\n",
       "      <td>2011</td>\n",
       "      <td>November 12, 2019</td>\n",
       "      <td>Comedy, Fantasy, Romance</td>\n",
       "      <td>English</td>\n",
       "      <td>USA</td>\n",
       "      <td>6.3</td>\n",
       "    </tr>\n",
       "  </tbody>\n",
       "</table>\n",
       "</div>"
      ],
      "text/plain": [
       "                                        title   type  rated  year  \\\n",
       "0                  10 Things I Hate About You  movie  PG-13  1999   \n",
       "1                              101 Dalmatians  movie      G  1996   \n",
       "2  101 Dalmatians 2: Patch's London Adventure  movie      G  2002   \n",
       "3                              102 Dalmatians  movie      G  2000   \n",
       "4                       12 Dates of Christmas  movie     PG  2011   \n",
       "\n",
       "            added_at                                          genre  \\\n",
       "0  November 12, 2019                         Comedy, Drama, Romance   \n",
       "1  November 12, 2019               Adventure, Comedy, Crime, Family   \n",
       "2  November 12, 2019  Animation, Adventure, Comedy, Family, Musical   \n",
       "3  November 12, 2019                      Adventure, Comedy, Family   \n",
       "4  November 12, 2019                       Comedy, Fantasy, Romance   \n",
       "\n",
       "           language  country  imdb_rating  \n",
       "0   English, French      USA          7.3  \n",
       "1  English, Spanish  USA, UK          5.7  \n",
       "2           English      USA          5.8  \n",
       "3           English  USA, UK          4.9  \n",
       "4           English      USA          6.3  "
      ]
     },
     "execution_count": 129,
     "metadata": {},
     "output_type": "execute_result"
    }
   ],
   "source": [
    "newdisney.head()"
   ]
  },
  {
   "cell_type": "markdown",
   "id": "3f6cfc84",
   "metadata": {},
   "source": [
    "## Exploration"
   ]
  },
  {
   "cell_type": "code",
   "execution_count": 41,
   "id": "bab9a37b",
   "metadata": {
    "scrolled": true
   },
   "outputs": [
    {
     "name": "stdout",
     "output_type": "stream",
     "text": [
      "<class 'pandas.core.frame.DataFrame'>\n",
      "RangeIndex: 732 entries, 0 to 731\n",
      "Data columns (total 9 columns):\n",
      " #   Column       Non-Null Count  Dtype  \n",
      "---  ------       --------------  -----  \n",
      " 0   title        732 non-null    object \n",
      " 1   type         732 non-null    object \n",
      " 2   rated        732 non-null    object \n",
      " 3   year         732 non-null    object \n",
      " 4   added_at     732 non-null    object \n",
      " 5   genre        732 non-null    object \n",
      " 6   language     732 non-null    object \n",
      " 7   country      732 non-null    object \n",
      " 8   imdb_rating  732 non-null    float64\n",
      "dtypes: float64(1), object(8)\n",
      "memory usage: 51.6+ KB\n"
     ]
    }
   ],
   "source": [
    "newdisney.info()"
   ]
  },
  {
   "cell_type": "code",
   "execution_count": 55,
   "id": "74f19e70",
   "metadata": {
    "scrolled": true
   },
   "outputs": [
    {
     "data": {
      "text/plain": [
       "movie      596\n",
       "series     129\n",
       "episode      7\n",
       "Name: type, dtype: int64"
      ]
     },
     "execution_count": 55,
     "metadata": {},
     "output_type": "execute_result"
    }
   ],
   "source": [
    "newdisney.type.value_counts()"
   ]
  },
  {
   "cell_type": "code",
   "execution_count": 56,
   "id": "5c537f1c",
   "metadata": {},
   "outputs": [],
   "source": [
    "# Movies make up the majority of the content on Disney+"
   ]
  },
  {
   "cell_type": "code",
   "execution_count": 59,
   "id": "f934be04",
   "metadata": {},
   "outputs": [
    {
     "data": {
      "text/plain": [
       "November 12, 2019    629\n",
       "April 3, 2020         16\n",
       "January 1, 2020       13\n",
       "October 1, 2019       11\n",
       "May 1, 2020            8\n",
       "April 1, 2020          6\n",
       "December 1, 2019       4\n",
       "December 20, 2019      3\n",
       "February 1, 2020       3\n",
       "February 14, 2020      3\n",
       "January 10, 2020       2\n",
       "March 6, 2020          2\n",
       "April 10, 2020         2\n",
       "March 1, 2020          2\n",
       "January 15, 2020       2\n",
       "April 24, 2020         2\n",
       "February 2, 2020       1\n",
       "March 4, 2020          1\n",
       "February 7, 2020       1\n",
       "November 27, 2019      1\n",
       "January 28, 2020       1\n",
       "March 25, 2020         1\n",
       "March 13, 2020         1\n",
       "December 26, 2019      1\n",
       "February 9, 2020       1\n",
       "April 30, 2020         1\n",
       "February 16, 2020      1\n",
       "December 5, 2019       1\n",
       "February 21, 2020      1\n",
       "January 17, 2020       1\n",
       "January 8, 2020        1\n",
       "May 2, 2020            1\n",
       "March 15, 2020         1\n",
       "March 14, 2020         1\n",
       "March 5, 2020          1\n",
       "January 22, 2020       1\n",
       "November 29, 2019      1\n",
       "February 28, 2020      1\n",
       "March 20, 2020         1\n",
       "February 5, 2020       1\n",
       "Name: added_at, dtype: int64"
      ]
     },
     "execution_count": 59,
     "metadata": {},
     "output_type": "execute_result"
    }
   ],
   "source": [
    "newdisney.added_at.value_counts()"
   ]
  },
  {
   "cell_type": "code",
   "execution_count": 76,
   "id": "7f2fb8fd",
   "metadata": {},
   "outputs": [],
   "source": [
    "# most programming was added November 12, 2019, which is when the service originally launched\n",
    "# April 3, 2020 is second with 16\n",
    "# Most dates only have one item released"
   ]
  },
  {
   "cell_type": "code",
   "execution_count": 85,
   "id": "400bb54c",
   "metadata": {},
   "outputs": [
    {
     "data": {
      "text/plain": [
       "2003         27\n",
       "2002         22\n",
       "2000         22\n",
       "2011         22\n",
       "2005         22\n",
       "             ..\n",
       "2006–2013     1\n",
       "1992–1993     1\n",
       "2014–2017     1\n",
       "1993–1994     1\n",
       "2008–2009     1\n",
       "Name: year, Length: 170, dtype: int64"
      ]
     },
     "execution_count": 85,
     "metadata": {},
     "output_type": "execute_result"
    }
   ],
   "source": [
    "newdisney.year.value_counts()"
   ]
  },
  {
   "cell_type": "code",
   "execution_count": 71,
   "id": "74baf38e",
   "metadata": {},
   "outputs": [],
   "source": [
    "# 2003 is the most popular release year for programming"
   ]
  },
  {
   "cell_type": "code",
   "execution_count": 96,
   "id": "50f7a65f",
   "metadata": {},
   "outputs": [
    {
     "data": {
      "text/plain": [
       "English                                                      610\n",
       "English, French                                               17\n",
       "English, Spanish                                              16\n",
       "None                                                           8\n",
       "English, German                                                6\n",
       "                                                            ... \n",
       "English, German, Xhosa, Russian, Romanian, Hindi               1\n",
       "Hungarian, Kurdish, Hindi, English, Persian, Urdu, Arabic      1\n",
       "English, French, Russian                                       1\n",
       "English, Russian, Hindi                                        1\n",
       "English, Mandarin, Cantonese                                   1\n",
       "Name: language, Length: 68, dtype: int64"
      ]
     },
     "execution_count": 96,
     "metadata": {},
     "output_type": "execute_result"
    }
   ],
   "source": [
    "newdisney.language.value_counts()"
   ]
  },
  {
   "cell_type": "code",
   "execution_count": 86,
   "id": "baf675db",
   "metadata": {},
   "outputs": [],
   "source": [
    "# English is in 4 of the top 5 listings"
   ]
  },
  {
   "cell_type": "code",
   "execution_count": 88,
   "id": "68dbb96c",
   "metadata": {},
   "outputs": [
    {
     "data": {
      "text/plain": [
       "True     722\n",
       "False     10\n",
       "Name: language, dtype: int64"
      ]
     },
     "execution_count": 88,
     "metadata": {},
     "output_type": "execute_result"
    }
   ],
   "source": [
    "newdisney.language.str.contains('English').value_counts()"
   ]
  },
  {
   "cell_type": "code",
   "execution_count": 90,
   "id": "cc6a2e17",
   "metadata": {},
   "outputs": [],
   "source": [
    "# English is available in all but 10 listings."
   ]
  },
  {
   "cell_type": "code",
   "execution_count": 89,
   "id": "fc428567",
   "metadata": {},
   "outputs": [
    {
     "data": {
      "text/plain": [
       "False    698\n",
       "True      34\n",
       "Name: language, dtype: int64"
      ]
     },
     "execution_count": 89,
     "metadata": {},
     "output_type": "execute_result"
    }
   ],
   "source": [
    "newdisney.language.str.contains('French').value_counts()"
   ]
  },
  {
   "cell_type": "code",
   "execution_count": 91,
   "id": "30d69aca",
   "metadata": {
    "scrolled": false
   },
   "outputs": [
    {
     "data": {
      "text/plain": [
       "False    702\n",
       "True      30\n",
       "Name: language, dtype: int64"
      ]
     },
     "execution_count": 91,
     "metadata": {},
     "output_type": "execute_result"
    }
   ],
   "source": [
    "newdisney.language.str.contains('Spanish').value_counts()"
   ]
  },
  {
   "cell_type": "code",
   "execution_count": 92,
   "id": "a0413be0",
   "metadata": {
    "scrolled": true
   },
   "outputs": [
    {
     "data": {
      "text/plain": [
       "False    717\n",
       "True      15\n",
       "Name: language, dtype: int64"
      ]
     },
     "execution_count": 92,
     "metadata": {},
     "output_type": "execute_result"
    }
   ],
   "source": [
    "newdisney.language.str.contains('German').value_counts()"
   ]
  },
  {
   "cell_type": "code",
   "execution_count": 105,
   "id": "db6a1d5a",
   "metadata": {},
   "outputs": [],
   "source": [
    "# the languages listed with English in the top 5 are all represented to a much smaller degree\n",
    "# French is available in 34 titles\n",
    "# Spanish is available in 30\n",
    "# German is available in 15"
   ]
  },
  {
   "cell_type": "code",
   "execution_count": 106,
   "id": "5340dc42",
   "metadata": {},
   "outputs": [],
   "source": [
    "# English is the overall most common language on Disney+"
   ]
  },
  {
   "cell_type": "code",
   "execution_count": 135,
   "id": "7e463a88",
   "metadata": {},
   "outputs": [
    {
     "data": {
      "text/plain": [
       "USA                                                                                                                                617\n",
       "USA, Canada                                                                                                                         18\n",
       "Canada, USA                                                                                                                         14\n",
       "USA, UK                                                                                                                             11\n",
       "UK, USA                                                                                                                              7\n",
       "USA, Australia                                                                                                                       7\n",
       "UK                                                                                                                                   5\n",
       "USA, France                                                                                                                          3\n",
       "Australia, USA                                                                                                                       3\n",
       "USA, India, UK                                                                                                                       2\n",
       "France, USA                                                                                                                          2\n",
       "Canada                                                                                                                               2\n",
       "USA, New Zealand                                                                                                                     2\n",
       "USA, Japan                                                                                                                           2\n",
       "Canada, Malaysia, USA                                                                                                                1\n",
       "USA, South Korea, Singapore, Russia, Malaysia, Kazakhstan, Taiwan, Hong Kong, Japan, China, India, Syria, Iran, Egypt, Pakistan      1\n",
       "USA, Canada, Australia                                                                                                               1\n",
       "Argentina                                                                                                                            1\n",
       "China                                                                                                                                1\n",
       "France, UK                                                                                                                           1\n",
       "Austria, UK, USA                                                                                                                     1\n",
       "USA, UK, Australia                                                                                                                   1\n",
       "France, UK, USA                                                                                                                      1\n",
       "USA, South Korea, France                                                                                                             1\n",
       "Norway, Sweden, USA                                                                                                                  1\n",
       "France, Canada, USA                                                                                                                  1\n",
       "Ireland, USA, Canada, UK, Denmark, Spain, Poland, Hungary                                                                            1\n",
       "USA, Canada, Australia, Taiwan                                                                                                       1\n",
       "China, Hong Kong, USA                                                                                                                1\n",
       "USA, Poland, Slovenia, Czech Republic, UK                                                                                            1\n",
       "Ireland, UK, USA, South Korea, Canada                                                                                                1\n",
       "Canada, USA, UK, France                                                                                                              1\n",
       "USA, Mexico                                                                                                                          1\n",
       "USA, Australia, France, Canada                                                                                                       1\n",
       "USA, Hungary, UK                                                                                                                     1\n",
       "USA, Germany, Ireland, UK                                                                                                            1\n",
       "Australia, UK                                                                                                                        1\n",
       "USA, Taiwan, South Korea, China, Japan, UK                                                                                           1\n",
       "Germany, USA                                                                                                                         1\n",
       "UK, Germany                                                                                                                          1\n",
       "UK, USA, Ireland                                                                                                                     1\n",
       "Ireland, USA                                                                                                                         1\n",
       "USA, Philippines, South Korea                                                                                                        1\n",
       "UK, China, USA                                                                                                                       1\n",
       "Tanzania, USA                                                                                                                        1\n",
       "USA, Panama, Mexico                                                                                                                  1\n",
       "USA, Ireland                                                                                                                         1\n",
       "UK, Canada, USA                                                                                                                      1\n",
       "UK, Australia                                                                                                                        1\n",
       "USA, UK, Australia, Canada                                                                                                           1\n",
       "New Zealand, USA                                                                                                                     1\n",
       "Name: country, dtype: int64"
      ]
     },
     "execution_count": 135,
     "metadata": {},
     "output_type": "execute_result"
    }
   ],
   "source": [
    "newdisney.country.value_counts()"
   ]
  },
  {
   "cell_type": "code",
   "execution_count": null,
   "id": "c479d358",
   "metadata": {},
   "outputs": [],
   "source": [
    "# USA is listed in most of the provided options"
   ]
  },
  {
   "cell_type": "code",
   "execution_count": 136,
   "id": "3fdf0a3c",
   "metadata": {
    "scrolled": true
   },
   "outputs": [
    {
     "data": {
      "text/plain": [
       "True     719\n",
       "False     13\n",
       "Name: country, dtype: int64"
      ]
     },
     "execution_count": 136,
     "metadata": {},
     "output_type": "execute_result"
    }
   ],
   "source": [
    "newdisney.country.str.contains('USA').value_counts()"
   ]
  },
  {
   "cell_type": "code",
   "execution_count": null,
   "id": "507e7b69",
   "metadata": {},
   "outputs": [],
   "source": [
    "# 719 of the listings were produced in the USA"
   ]
  },
  {
   "cell_type": "code",
   "execution_count": 107,
   "id": "9afa55c6",
   "metadata": {},
   "outputs": [
    {
     "data": {
      "text/plain": [
       "Comedy, Family                                          26\n",
       "Comedy, Drama, Family                                   19\n",
       "Animation, Adventure, Comedy, Family, Fantasy           17\n",
       "Action, Adventure, Sci-Fi                               17\n",
       "Documentary                                             15\n",
       "                                                        ..\n",
       "Family, Adventure, Comedy, Drama                         1\n",
       "Family, Drama, Western                                   1\n",
       "Action, Adventure, Comedy                                1\n",
       "Adventure, Comedy, Crime, Family                         1\n",
       "Animation, Adventure, Comedy, Crime, Family, Mystery     1\n",
       "Name: genre, Length: 337, dtype: int64"
      ]
     },
     "execution_count": 107,
     "metadata": {},
     "output_type": "execute_result"
    }
   ],
   "source": [
    "newdisney.genre.value_counts()"
   ]
  },
  {
   "cell_type": "code",
   "execution_count": 108,
   "id": "68b486d2",
   "metadata": {},
   "outputs": [],
   "source": [
    "# Comedy, Family, Drama, Animation, Adventure\n",
    "# Fantasy, Action, Sci-Fi, and Documentary make up the top 5 results"
   ]
  },
  {
   "cell_type": "code",
   "execution_count": 109,
   "id": "27381dfe",
   "metadata": {},
   "outputs": [
    {
     "data": {
      "text/plain": [
       "True     442\n",
       "False    290\n",
       "Name: genre, dtype: int64"
      ]
     },
     "execution_count": 109,
     "metadata": {},
     "output_type": "execute_result"
    }
   ],
   "source": [
    "newdisney.genre.str.contains('Comedy').value_counts()"
   ]
  },
  {
   "cell_type": "code",
   "execution_count": 110,
   "id": "77285856",
   "metadata": {},
   "outputs": [
    {
     "data": {
      "text/plain": [
       "True     598\n",
       "False    134\n",
       "Name: genre, dtype: int64"
      ]
     },
     "execution_count": 110,
     "metadata": {},
     "output_type": "execute_result"
    }
   ],
   "source": [
    "newdisney.genre.str.contains('Family').value_counts()"
   ]
  },
  {
   "cell_type": "code",
   "execution_count": 111,
   "id": "61ac5e78",
   "metadata": {},
   "outputs": [
    {
     "data": {
      "text/plain": [
       "False    565\n",
       "True     167\n",
       "Name: genre, dtype: int64"
      ]
     },
     "execution_count": 111,
     "metadata": {},
     "output_type": "execute_result"
    }
   ],
   "source": [
    "newdisney.genre.str.contains('Drama').value_counts()"
   ]
  },
  {
   "cell_type": "code",
   "execution_count": 112,
   "id": "0e97d145",
   "metadata": {},
   "outputs": [
    {
     "data": {
      "text/plain": [
       "False    432\n",
       "True     300\n",
       "Name: genre, dtype: int64"
      ]
     },
     "execution_count": 112,
     "metadata": {},
     "output_type": "execute_result"
    }
   ],
   "source": [
    "newdisney.genre.str.contains('Animation').value_counts()"
   ]
  },
  {
   "cell_type": "code",
   "execution_count": 113,
   "id": "bdd7cc89",
   "metadata": {},
   "outputs": [
    {
     "data": {
      "text/plain": [
       "False    399\n",
       "True     333\n",
       "Name: genre, dtype: int64"
      ]
     },
     "execution_count": 113,
     "metadata": {},
     "output_type": "execute_result"
    }
   ],
   "source": [
    "newdisney.genre.str.contains('Adventure').value_counts()"
   ]
  },
  {
   "cell_type": "code",
   "execution_count": 114,
   "id": "839f2222",
   "metadata": {},
   "outputs": [
    {
     "data": {
      "text/plain": [
       "False    501\n",
       "True     231\n",
       "Name: genre, dtype: int64"
      ]
     },
     "execution_count": 114,
     "metadata": {},
     "output_type": "execute_result"
    }
   ],
   "source": [
    "newdisney.genre.str.contains('Fantasy').value_counts()"
   ]
  },
  {
   "cell_type": "code",
   "execution_count": 116,
   "id": "e62ededc",
   "metadata": {},
   "outputs": [
    {
     "data": {
      "text/plain": [
       "False    596\n",
       "True     136\n",
       "Name: genre, dtype: int64"
      ]
     },
     "execution_count": 116,
     "metadata": {},
     "output_type": "execute_result"
    }
   ],
   "source": [
    "newdisney.genre.str.contains('Action').value_counts()"
   ]
  },
  {
   "cell_type": "code",
   "execution_count": 117,
   "id": "c25809f9",
   "metadata": {},
   "outputs": [
    {
     "data": {
      "text/plain": [
       "False    595\n",
       "True     137\n",
       "Name: genre, dtype: int64"
      ]
     },
     "execution_count": 117,
     "metadata": {},
     "output_type": "execute_result"
    }
   ],
   "source": [
    "newdisney.genre.str.contains('Sci-Fi').value_counts()"
   ]
  },
  {
   "cell_type": "code",
   "execution_count": 118,
   "id": "c5b21670",
   "metadata": {},
   "outputs": [
    {
     "data": {
      "text/plain": [
       "False    688\n",
       "True      44\n",
       "Name: genre, dtype: int64"
      ]
     },
     "execution_count": 118,
     "metadata": {},
     "output_type": "execute_result"
    }
   ],
   "source": [
    "newdisney.genre.str.contains('Documentary').value_counts()"
   ]
  },
  {
   "cell_type": "code",
   "execution_count": null,
   "id": "450c2b04",
   "metadata": {},
   "outputs": [],
   "source": [
    "# Family is the most common genre at 598 listings, while Comedy is second with 442"
   ]
  },
  {
   "cell_type": "code",
   "execution_count": 58,
   "id": "958c0221",
   "metadata": {
    "scrolled": true
   },
   "outputs": [
    {
     "data": {
      "text/plain": [
       "G            205\n",
       "PG           155\n",
       "TV-G         130\n",
       "Approved      60\n",
       "TV-Y7         40\n",
       "TV-PG         39\n",
       "PG-13         37\n",
       "TV-Y          32\n",
       "Not Rated     17\n",
       "Passed         6\n",
       "Unrated        5\n",
       "TV-14          4\n",
       "TV-Y7-FV       2\n",
       "Name: rated, dtype: int64"
      ]
     },
     "execution_count": 58,
     "metadata": {},
     "output_type": "execute_result"
    }
   ],
   "source": [
    "newdisney.rated.value_counts()"
   ]
  },
  {
   "cell_type": "code",
   "execution_count": 119,
   "id": "007e6102",
   "metadata": {},
   "outputs": [],
   "source": [
    "# G is the most common content rating, at 205 instances"
   ]
  },
  {
   "cell_type": "code",
   "execution_count": 130,
   "id": "8a9c5e06",
   "metadata": {},
   "outputs": [
    {
     "data": {
      "text/plain": [
       "6.5    33\n",
       "7.2    32\n",
       "7.1    32\n",
       "7.3    31\n",
       "6.4    29\n",
       "6.9    28\n",
       "6.1    27\n",
       "6.2    27\n",
       "6.8    27\n",
       "6.7    26\n",
       "6.3    26\n",
       "7.6    25\n",
       "6.6    24\n",
       "5.9    23\n",
       "7.0    22\n",
       "7.4    20\n",
       "8.0    20\n",
       "7.5    19\n",
       "5.5    18\n",
       "5.7    18\n",
       "6.0    16\n",
       "7.8    16\n",
       "7.9    15\n",
       "7.7    15\n",
       "5.0    14\n",
       "5.4    14\n",
       "8.1    14\n",
       "5.6    12\n",
       "5.8    12\n",
       "4.7    10\n",
       "5.3    10\n",
       "5.1     8\n",
       "8.2     7\n",
       "5.2     7\n",
       "8.3     7\n",
       "4.8     7\n",
       "4.9     6\n",
       "8.4     6\n",
       "4.1     4\n",
       "8.7     3\n",
       "8.5     3\n",
       "4.6     2\n",
       "4.2     2\n",
       "8.6     1\n",
       "8.8     1\n",
       "3.6     1\n",
       "3.0     1\n",
       "1.5     1\n",
       "3.4     1\n",
       "9.7     1\n",
       "4.5     1\n",
       "4.4     1\n",
       "3.3     1\n",
       "3.7     1\n",
       "8.9     1\n",
       "3.5     1\n",
       "4.3     1\n",
       "2.3     1\n",
       "Name: imdb_rating, dtype: int64"
      ]
     },
     "execution_count": 130,
     "metadata": {},
     "output_type": "execute_result"
    }
   ],
   "source": [
    "newdisney.imdb_rating.value_counts()"
   ]
  },
  {
   "cell_type": "code",
   "execution_count": null,
   "id": "05c15046",
   "metadata": {},
   "outputs": [],
   "source": [
    "# 6.5 is most common with 33\n",
    "# 7.1 and 7.2 share second with 32\n",
    "# 7.3 is third with 31"
   ]
  },
  {
   "cell_type": "code",
   "execution_count": null,
   "id": "6b7a5be0",
   "metadata": {},
   "outputs": [],
   "source": [
    "# average imdb_rating by type"
   ]
  },
  {
   "cell_type": "code",
   "execution_count": 137,
   "id": "be13dae7",
   "metadata": {},
   "outputs": [
    {
     "data": {
      "text/plain": [
       "type\n",
       "episode    7.057143\n",
       "movie      6.539597\n",
       "series     6.898450\n",
       "Name: imdb_rating, dtype: float64"
      ]
     },
     "execution_count": 137,
     "metadata": {},
     "output_type": "execute_result"
    }
   ],
   "source": [
    "newdisney.groupby(['type'])['imdb_rating'].mean()"
   ]
  },
  {
   "cell_type": "code",
   "execution_count": null,
   "id": "50352a11",
   "metadata": {},
   "outputs": [],
   "source": [
    "# average imdb_rating by content rating"
   ]
  },
  {
   "cell_type": "code",
   "execution_count": 138,
   "id": "367f7f41",
   "metadata": {},
   "outputs": [
    {
     "data": {
      "text/plain": [
       "rated\n",
       "Approved     7.093333\n",
       "G            6.568293\n",
       "Not Rated    6.641176\n",
       "PG           6.469677\n",
       "PG-13        7.278378\n",
       "Passed       7.466667\n",
       "TV-14        6.525000\n",
       "TV-G         6.173846\n",
       "TV-PG        6.687179\n",
       "TV-Y         6.740625\n",
       "TV-Y7        7.050000\n",
       "TV-Y7-FV     6.750000\n",
       "Unrated      6.860000\n",
       "Name: imdb_rating, dtype: float64"
      ]
     },
     "execution_count": 138,
     "metadata": {},
     "output_type": "execute_result"
    }
   ],
   "source": [
    "newdisney.groupby(['rated'])['imdb_rating'].mean()"
   ]
  },
  {
   "cell_type": "code",
   "execution_count": 139,
   "id": "8ea6f3d3",
   "metadata": {},
   "outputs": [],
   "source": [
    "# average imdb_rating by added_at"
   ]
  },
  {
   "cell_type": "code",
   "execution_count": 140,
   "id": "766ce48e",
   "metadata": {},
   "outputs": [
    {
     "data": {
      "text/plain": [
       "added_at\n",
       "April 1, 2020        5.950000\n",
       "April 10, 2020       7.200000\n",
       "April 24, 2020       6.700000\n",
       "April 3, 2020        7.112500\n",
       "April 30, 2020       6.800000\n",
       "December 1, 2019     6.700000\n",
       "December 20, 2019    6.400000\n",
       "December 26, 2019    7.000000\n",
       "December 5, 2019     7.900000\n",
       "February 1, 2020     6.300000\n",
       "February 14, 2020    6.133333\n",
       "February 16, 2020    4.700000\n",
       "February 2, 2020     6.700000\n",
       "February 21, 2020    5.500000\n",
       "February 28, 2020    8.200000\n",
       "February 5, 2020     7.800000\n",
       "February 7, 2020     6.100000\n",
       "February 9, 2020     5.400000\n",
       "January 1, 2020      6.707692\n",
       "January 10, 2020     7.300000\n",
       "January 15, 2020     7.300000\n",
       "January 17, 2020     5.500000\n",
       "January 22, 2020     9.700000\n",
       "January 28, 2020     6.900000\n",
       "January 8, 2020      7.000000\n",
       "March 1, 2020        6.100000\n",
       "March 13, 2020       6.200000\n",
       "March 14, 2020       7.000000\n",
       "March 15, 2020       5.100000\n",
       "March 20, 2020       6.000000\n",
       "March 25, 2020       4.200000\n",
       "March 4, 2020        7.300000\n",
       "March 5, 2020        6.000000\n",
       "March 6, 2020        5.900000\n",
       "May 1, 2020          6.950000\n",
       "May 2, 2020          6.600000\n",
       "November 12, 2019    6.595866\n",
       "November 27, 2019    5.500000\n",
       "November 29, 2019    8.400000\n",
       "October 1, 2019      6.727273\n",
       "Name: imdb_rating, dtype: float64"
      ]
     },
     "execution_count": 140,
     "metadata": {},
     "output_type": "execute_result"
    }
   ],
   "source": [
    "newdisney.groupby(['added_at'])['imdb_rating'].mean()"
   ]
  },
  {
   "cell_type": "code",
   "execution_count": 141,
   "id": "141ea342",
   "metadata": {},
   "outputs": [],
   "source": [
    "# average imdb_rating by release year"
   ]
  },
  {
   "cell_type": "code",
   "execution_count": 142,
   "id": "80faa99b",
   "metadata": {},
   "outputs": [
    {
     "data": {
      "text/plain": [
       "year\n",
       "1928     7.600000\n",
       "1932     7.150000\n",
       "1933     7.500000\n",
       "1934     7.100000\n",
       "1935     7.550000\n",
       "           ...   \n",
       "2018–    7.200000\n",
       "2019     6.835000\n",
       "2019–    7.142857\n",
       "2020     6.950000\n",
       "2020–    5.500000\n",
       "Name: imdb_rating, Length: 170, dtype: float64"
      ]
     },
     "execution_count": 142,
     "metadata": {},
     "output_type": "execute_result"
    }
   ],
   "source": [
    "newdisney.groupby(['year'])['imdb_rating'].mean()"
   ]
  },
  {
   "cell_type": "markdown",
   "id": "f5fa0be9",
   "metadata": {},
   "source": [
    "# Do content ratings affect imdb rating?"
   ]
  },
  {
   "cell_type": "markdown",
   "id": "33cbf727",
   "metadata": {},
   "source": [
    "### One Way Between Subjects ANOVA"
   ]
  },
  {
   "cell_type": "code",
   "execution_count": 144,
   "id": "92f3aa66",
   "metadata": {},
   "outputs": [],
   "source": [
    "# import new packages"
   ]
  },
  {
   "cell_type": "code",
   "execution_count": 145,
   "id": "204bb9da",
   "metadata": {},
   "outputs": [],
   "source": [
    "from statsmodels.stats.multicomp import pairwise_tukeyhsd\n",
    "from statsmodels.stats.multicomp import MultiComparison"
   ]
  },
  {
   "cell_type": "markdown",
   "id": "26dead97",
   "metadata": {},
   "source": [
    "##### Data wrangling for the question"
   ]
  },
  {
   "cell_type": "code",
   "execution_count": null,
   "id": "1cd07460",
   "metadata": {},
   "outputs": [],
   "source": [
    "# df for the two variables"
   ]
  },
  {
   "cell_type": "code",
   "execution_count": 148,
   "id": "bd51b67f",
   "metadata": {},
   "outputs": [],
   "source": [
    "disney1 = newdisney[['imdb_rating','rated']]"
   ]
  },
  {
   "cell_type": "code",
   "execution_count": 149,
   "id": "1e04b090",
   "metadata": {},
   "outputs": [],
   "source": [
    "# make rated numeric"
   ]
  },
  {
   "cell_type": "code",
   "execution_count": 150,
   "id": "a72b7740",
   "metadata": {},
   "outputs": [
    {
     "name": "stderr",
     "output_type": "stream",
     "text": [
      "C:\\Users\\avama\\AppData\\Local\\Temp\\ipykernel_32384\\1388380255.py:29: SettingWithCopyWarning: \n",
      "A value is trying to be set on a copy of a slice from a DataFrame.\n",
      "Try using .loc[row_indexer,col_indexer] = value instead\n",
      "\n",
      "See the caveats in the documentation: https://pandas.pydata.org/pandas-docs/stable/user_guide/indexing.html#returning-a-view-versus-a-copy\n",
      "  disney1[\"ratedRecode\"] = disney1[\"rated\"].apply(recode)\n"
     ]
    }
   ],
   "source": [
    "def recode(series):\n",
    "    if series == \"Approved\":\n",
    "        return 0\n",
    "    if series == \"G\":\n",
    "        return 1\n",
    "    if series == \"Not Rated\":\n",
    "        return 2\n",
    "    if series == \"PG\":\n",
    "        return 3\n",
    "    if series == \"PG-13\":\n",
    "        return 4\n",
    "    if series == \"Passed\":\n",
    "        return 5\n",
    "    if series == \"TV-14\":\n",
    "        return 6\n",
    "    if series == \"TV-G\":\n",
    "        return 7\n",
    "    if series == \"TV-PG\":\n",
    "        return 8\n",
    "    if series == \"TV-Y\":\n",
    "        return 9\n",
    "    if series == \"TV-Y7\":\n",
    "        return 10\n",
    "    if series == \"TV-Y7-FV\":\n",
    "        return 11\n",
    "    if series == \"Unrated\":\n",
    "        return 12\n",
    "    \n",
    "disney1[\"ratedRecode\"] = disney1[\"rated\"].apply(recode)"
   ]
  },
  {
   "cell_type": "code",
   "execution_count": 151,
   "id": "cf6ee10c",
   "metadata": {},
   "outputs": [
    {
     "data": {
      "text/html": [
       "<div>\n",
       "<style scoped>\n",
       "    .dataframe tbody tr th:only-of-type {\n",
       "        vertical-align: middle;\n",
       "    }\n",
       "\n",
       "    .dataframe tbody tr th {\n",
       "        vertical-align: top;\n",
       "    }\n",
       "\n",
       "    .dataframe thead th {\n",
       "        text-align: right;\n",
       "    }\n",
       "</style>\n",
       "<table border=\"1\" class=\"dataframe\">\n",
       "  <thead>\n",
       "    <tr style=\"text-align: right;\">\n",
       "      <th></th>\n",
       "      <th>imdb_rating</th>\n",
       "      <th>rated</th>\n",
       "      <th>ratedRecode</th>\n",
       "    </tr>\n",
       "  </thead>\n",
       "  <tbody>\n",
       "    <tr>\n",
       "      <th>0</th>\n",
       "      <td>7.3</td>\n",
       "      <td>PG-13</td>\n",
       "      <td>4</td>\n",
       "    </tr>\n",
       "    <tr>\n",
       "      <th>1</th>\n",
       "      <td>5.7</td>\n",
       "      <td>G</td>\n",
       "      <td>1</td>\n",
       "    </tr>\n",
       "    <tr>\n",
       "      <th>2</th>\n",
       "      <td>5.8</td>\n",
       "      <td>G</td>\n",
       "      <td>1</td>\n",
       "    </tr>\n",
       "    <tr>\n",
       "      <th>3</th>\n",
       "      <td>4.9</td>\n",
       "      <td>G</td>\n",
       "      <td>1</td>\n",
       "    </tr>\n",
       "    <tr>\n",
       "      <th>4</th>\n",
       "      <td>6.3</td>\n",
       "      <td>PG</td>\n",
       "      <td>3</td>\n",
       "    </tr>\n",
       "  </tbody>\n",
       "</table>\n",
       "</div>"
      ],
      "text/plain": [
       "   imdb_rating  rated  ratedRecode\n",
       "0          7.3  PG-13            4\n",
       "1          5.7      G            1\n",
       "2          5.8      G            1\n",
       "3          4.9      G            1\n",
       "4          6.3     PG            3"
      ]
     },
     "execution_count": 151,
     "metadata": {},
     "output_type": "execute_result"
    }
   ],
   "source": [
    "disney1.head()"
   ]
  },
  {
   "cell_type": "markdown",
   "id": "60a6710d",
   "metadata": {},
   "source": [
    "#### Testing Assumptions"
   ]
  },
  {
   "cell_type": "code",
   "execution_count": 155,
   "id": "2040c678",
   "metadata": {},
   "outputs": [],
   "source": [
    "# test for normality"
   ]
  },
  {
   "cell_type": "code",
   "execution_count": 153,
   "id": "cb8a46a8",
   "metadata": {
    "scrolled": true
   },
   "outputs": [
    {
     "name": "stderr",
     "output_type": "stream",
     "text": [
      "C:\\Python310\\lib\\site-packages\\seaborn\\distributions.py:2619: FutureWarning: `distplot` is a deprecated function and will be removed in a future version. Please adapt your code to use either `displot` (a figure-level function with similar flexibility) or `histplot` (an axes-level function for histograms).\n",
      "  warnings.warn(msg, FutureWarning)\n"
     ]
    },
    {
     "data": {
      "text/plain": [
       "<AxesSubplot:xlabel='imdb_rating', ylabel='Density'>"
      ]
     },
     "execution_count": 153,
     "metadata": {},
     "output_type": "execute_result"
    },
    {
     "data": {
      "image/png": "[encoded data removed]",
      "text/plain": [
       "<Figure size 432x288 with 1 Axes>"
      ]
     },
     "metadata": {
      "needs_background": "light"
     },
     "output_type": "display_data"
    }
   ],
   "source": [
    "sns.distplot(disney1['imdb_rating'])"
   ]
  },
  {
   "cell_type": "code",
   "execution_count": 158,
   "id": "fd152bc5",
   "metadata": {},
   "outputs": [],
   "source": [
    "# fairly normal distribution"
   ]
  },
  {
   "cell_type": "code",
   "execution_count": null,
   "id": "edaa3906",
   "metadata": {},
   "outputs": [],
   "source": [
    "# try SQRT"
   ]
  },
  {
   "cell_type": "code",
   "execution_count": 157,
   "id": "4dd5d89f",
   "metadata": {},
   "outputs": [
    {
     "name": "stderr",
     "output_type": "stream",
     "text": [
      "C:\\Users\\avama\\AppData\\Local\\Temp\\ipykernel_32384\\994034267.py:1: SettingWithCopyWarning: \n",
      "A value is trying to be set on a copy of a slice from a DataFrame.\n",
      "Try using .loc[row_indexer,col_indexer] = value instead\n",
      "\n",
      "See the caveats in the documentation: https://pandas.pydata.org/pandas-docs/stable/user_guide/indexing.html#returning-a-view-versus-a-copy\n",
      "  disney1['imdbSQRT'] = np.sqrt(disney1['imdb_rating'])\n"
     ]
    }
   ],
   "source": [
    "disney1['imdbSQRT'] = np.sqrt(disney1['imdb_rating'])"
   ]
  },
  {
   "cell_type": "code",
   "execution_count": 160,
   "id": "ac2b6d6e",
   "metadata": {},
   "outputs": [
    {
     "name": "stderr",
     "output_type": "stream",
     "text": [
      "C:\\Python310\\lib\\site-packages\\seaborn\\distributions.py:2619: FutureWarning: `distplot` is a deprecated function and will be removed in a future version. Please adapt your code to use either `displot` (a figure-level function with similar flexibility) or `histplot` (an axes-level function for histograms).\n",
      "  warnings.warn(msg, FutureWarning)\n"
     ]
    },
    {
     "data": {
      "text/plain": [
       "<AxesSubplot:xlabel='imdbSQRT', ylabel='Density'>"
      ]
     },
     "execution_count": 160,
     "metadata": {},
     "output_type": "execute_result"
    },
    {
     "data": {
      "image/png": "[encoded data removed]",
      "text/plain": [
       "<Figure size 432x288 with 1 Axes>"
      ]
     },
     "metadata": {
      "needs_background": "light"
     },
     "output_type": "display_data"
    }
   ],
   "source": [
    "sns.distplot(disney1['imdbSQRT'])"
   ]
  },
  {
   "cell_type": "code",
   "execution_count": 161,
   "id": "49a1fd95",
   "metadata": {},
   "outputs": [],
   "source": [
    "# looks better"
   ]
  },
  {
   "cell_type": "markdown",
   "id": "0a96f1e0",
   "metadata": {},
   "source": [
    "#### Homogeneity of Variance"
   ]
  },
  {
   "cell_type": "code",
   "execution_count": 162,
   "id": "ee092846",
   "metadata": {},
   "outputs": [],
   "source": [
    "# normal distribution-> Bartlett's Test"
   ]
  },
  {
   "cell_type": "code",
   "execution_count": 163,
   "id": "1fd8156b",
   "metadata": {},
   "outputs": [
    {
     "data": {
      "text/plain": [
       "BartlettResult(statistic=2984.1958317072567, pvalue=0.0)"
      ]
     },
     "execution_count": 163,
     "metadata": {},
     "output_type": "execute_result"
    }
   ],
   "source": [
    "scipy.stats.bartlett(disney1['imdbSQRT'],disney1['ratedRecode'])"
   ]
  },
  {
   "cell_type": "code",
   "execution_count": 164,
   "id": "61b63b0e",
   "metadata": {},
   "outputs": [],
   "source": [
    "# violates assumption for homogeneity of variance with significant p-value"
   ]
  },
  {
   "cell_type": "code",
   "execution_count": 165,
   "id": "1115461f",
   "metadata": {},
   "outputs": [],
   "source": [
    "# Fligner's"
   ]
  },
  {
   "cell_type": "code",
   "execution_count": 166,
   "id": "f7299172",
   "metadata": {},
   "outputs": [
    {
     "data": {
      "text/plain": [
       "FlignerResult(statistic=439.26789658755484, pvalue=1.5623575604157676e-97)"
      ]
     },
     "execution_count": 166,
     "metadata": {},
     "output_type": "execute_result"
    }
   ],
   "source": [
    "scipy.stats.fligner(disney1['imdbSQRT'],disney1['ratedRecode'])"
   ]
  },
  {
   "cell_type": "code",
   "execution_count": null,
   "id": "3dd957e7",
   "metadata": {},
   "outputs": [],
   "source": [
    "# still violates assumption"
   ]
  },
  {
   "cell_type": "code",
   "execution_count": 167,
   "id": "01523a75",
   "metadata": {},
   "outputs": [],
   "source": [
    "# they aren't closely related, but should be analyzed more"
   ]
  },
  {
   "cell_type": "markdown",
   "id": "c11291f3",
   "metadata": {},
   "source": [
    "#### Sample Size Assumption"
   ]
  },
  {
   "cell_type": "code",
   "execution_count": 169,
   "id": "26583306",
   "metadata": {},
   "outputs": [
    {
     "name": "stdout",
     "output_type": "stream",
     "text": [
      "<class 'pandas.core.frame.DataFrame'>\n",
      "RangeIndex: 732 entries, 0 to 731\n",
      "Data columns (total 4 columns):\n",
      " #   Column       Non-Null Count  Dtype  \n",
      "---  ------       --------------  -----  \n",
      " 0   imdb_rating  732 non-null    float64\n",
      " 1   rated        732 non-null    object \n",
      " 2   ratedRecode  732 non-null    int64  \n",
      " 3   imdbSQRT     732 non-null    float64\n",
      "dtypes: float64(2), int64(1), object(1)\n",
      "memory usage: 23.0+ KB\n"
     ]
    }
   ],
   "source": [
    "disney1.info()"
   ]
  },
  {
   "cell_type": "code",
   "execution_count": 170,
   "id": "5746179b",
   "metadata": {},
   "outputs": [],
   "source": [
    "# 732 is greater than 20"
   ]
  },
  {
   "cell_type": "markdown",
   "id": "cd2138cd",
   "metadata": {},
   "source": [
    "### Running Ananlysis"
   ]
  },
  {
   "cell_type": "code",
   "execution_count": 173,
   "id": "bbc5dce7",
   "metadata": {},
   "outputs": [
    {
     "data": {
      "text/plain": [
       "G            205\n",
       "PG           155\n",
       "TV-G         130\n",
       "Approved      60\n",
       "TV-Y7         40\n",
       "TV-PG         39\n",
       "PG-13         37\n",
       "TV-Y          32\n",
       "Not Rated     17\n",
       "Passed         6\n",
       "Unrated        5\n",
       "TV-14          4\n",
       "TV-Y7-FV       2\n",
       "Name: rated, dtype: int64"
      ]
     },
     "execution_count": 173,
     "metadata": {},
     "output_type": "execute_result"
    }
   ],
   "source": [
    "disney1.rated.value_counts()"
   ]
  },
  {
   "cell_type": "code",
   "execution_count": 174,
   "id": "a5a3e02e",
   "metadata": {},
   "outputs": [
    {
     "data": {
      "text/plain": [
       "array([2.70185122, 2.38746728, 2.40831892, 2.21359436, 2.50998008,\n",
       "       2.68328157, 2.60768096, 2.16794834, 2.64575131, 2.46981781,\n",
       "       2.66458252, 2.04939015, 2.82842712, 2.52982213, 2.42899156,\n",
       "       2.7202941 , 2.75680975, 2.48997992, 2.19089023, 2.81069386,\n",
       "       2.56904652, 2.58843582, 2.77488739, 2.25831796, 2.62678511,\n",
       "       2.79284801, 2.73861279, 2.32379001, 2.44948974, 2.88097206,\n",
       "       2.34520788, 2.30217289, 3.1144823 , 2.84604989, 2.28035085,\n",
       "       2.23606798, 2.89827535, 2.07364414, 2.14476106, 2.54950976,\n",
       "       1.87082869, 2.98328678, 2.36643191, 2.86356421, 1.92353841,\n",
       "       1.81659021, 1.51657509, 2.0976177 , 2.12132034, 2.02484567,\n",
       "       1.84390889, 1.22474487, 1.73205081, 1.8973666 , 2.91547595,\n",
       "       2.96647939, 2.93257566, 2.94957624])"
      ]
     },
     "execution_count": 174,
     "metadata": {},
     "output_type": "execute_result"
    }
   ],
   "source": [
    "disney1.imdbSQRT.unique()"
   ]
  },
  {
   "cell_type": "code",
   "execution_count": 175,
   "id": "30ee2c17",
   "metadata": {},
   "outputs": [
    {
     "data": {
      "text/plain": [
       "array([ 4,  1,  3,  0,  7,  2,  8, 12, 10,  9,  5,  6, 11], dtype=int64)"
      ]
     },
     "execution_count": 175,
     "metadata": {},
     "output_type": "execute_result"
    }
   ],
   "source": [
    "disney1.ratedRecode.unique()"
   ]
  },
  {
   "cell_type": "code",
   "execution_count": 176,
   "id": "294df656",
   "metadata": {},
   "outputs": [
    {
     "data": {
      "text/plain": [
       "F_onewayResult(statistic=6.169820551907612, pvalue=2.1225668632488432e-10)"
      ]
     },
     "execution_count": 176,
     "metadata": {},
     "output_type": "execute_result"
    }
   ],
   "source": [
    "stats.f_oneway(disney1['imdb_rating'][disney1['rated']=='Approved'],\n",
    "              disney1['imdb_rating'][disney1['rated']=='G'],\n",
    "              disney1['imdb_rating'][disney1['rated']=='Not Rated'],\n",
    "              disney1['imdb_rating'][disney1['rated']=='PG'],\n",
    "              disney1['imdb_rating'][disney1['rated']=='PG-13'],\n",
    "              disney1['imdb_rating'][disney1['rated']=='Passed'],\n",
    "              disney1['imdb_rating'][disney1['rated']=='TV-14'],\n",
    "              disney1['imdb_rating'][disney1['rated']=='TV-G'],\n",
    "              disney1['imdb_rating'][disney1['rated']=='TV-PG'],\n",
    "              disney1['imdb_rating'][disney1['rated']=='TV-Y'],\n",
    "              disney1['imdb_rating'][disney1['rated']=='TV-Y7'],\n",
    "              disney1['imdb_rating'][disney1['rated']=='TV-Y7-FV'],\n",
    "              disney1['imdb_rating'][disney1['rated']=='Unrated'])"
   ]
  },
  {
   "cell_type": "code",
   "execution_count": 177,
   "id": "46d4c92f",
   "metadata": {},
   "outputs": [],
   "source": [
    "# p-value indicates there is some difference in imdb rating related to content rating"
   ]
  },
  {
   "cell_type": "markdown",
   "id": "4abb3465",
   "metadata": {},
   "source": [
    "#### Tukey Post Hoc"
   ]
  },
  {
   "cell_type": "code",
   "execution_count": 178,
   "id": "878b4b92",
   "metadata": {},
   "outputs": [
    {
     "name": "stdout",
     "output_type": "stream",
     "text": [
      "   Multiple Comparison of Means - Tukey HSD, FWER=0.05    \n",
      "==========================================================\n",
      "  group1    group2  meandiff p-adj   lower   upper  reject\n",
      "----------------------------------------------------------\n",
      " Approved         G  -0.1098 0.0129 -0.2077 -0.0119   True\n",
      " Approved Not Rated  -0.0907 0.9152 -0.2739  0.0926  False\n",
      " Approved        PG  -0.1282 0.0021 -0.2296 -0.0268   True\n",
      " Approved     PG-13   0.0327 0.9999 -0.1067  0.1721  False\n",
      " Approved    Passed   0.0698 0.9998 -0.2157  0.3554  False\n",
      " Approved     TV-14  -0.1172 0.9959 -0.4616  0.2272  False\n",
      " Approved      TV-G  -0.1852    0.0 -0.2893 -0.0812   True\n",
      " Approved     TV-PG   -0.085 0.6924 -0.2222  0.0522  False\n",
      " Approved      TV-Y   -0.072 0.9166  -0.218  0.0739  False\n",
      " Approved     TV-Y7  -0.0127    1.0 -0.1488  0.1235  False\n",
      " Approved  TV-Y7-FV  -0.0755    1.0 -0.5549  0.4039  False\n",
      " Approved   Unrated  -0.0468    1.0 -0.3572  0.2636  False\n",
      "        G Not Rated   0.0192    1.0 -0.1491  0.1875  False\n",
      "        G        PG  -0.0184 0.9997 -0.0893  0.0526  False\n",
      "        G     PG-13   0.1425 0.0051  0.0234  0.2617   True\n",
      "        G    Passed   0.1797 0.6194 -0.0966  0.4559  False\n",
      "        G     TV-14  -0.0073    1.0  -0.344  0.3293  False\n",
      "        G      TV-G  -0.0754 0.0458 -0.1502 -0.0006   True\n",
      "        G     TV-PG   0.0248    1.0 -0.0917  0.1413  False\n",
      "        G      TV-Y   0.0378 0.9989  -0.089  0.1645  False\n",
      "        G     TV-Y7   0.0972 0.2036 -0.0181  0.2124  False\n",
      "        G  TV-Y7-FV   0.0343    1.0 -0.4395  0.5082  False\n",
      "        G   Unrated    0.063    1.0 -0.2388  0.3649  False\n",
      "Not Rated        PG  -0.0375 0.9999 -0.2079  0.1329  False\n",
      "Not Rated     PG-13   0.1234 0.6652  -0.072  0.3188  False\n",
      "Not Rated    Passed   0.1605 0.9006 -0.1562  0.4772  False\n",
      "Not Rated     TV-14  -0.0265    1.0 -0.3971  0.3441  False\n",
      "Not Rated      TV-G  -0.0946 0.8352 -0.2666  0.0774  False\n",
      "Not Rated     TV-PG   0.0057    1.0 -0.1882  0.1995  False\n",
      "Not Rated      TV-Y   0.0186    1.0 -0.1815  0.2188  False\n",
      "Not Rated     TV-Y7    0.078 0.9816 -0.1151  0.2711  False\n",
      "Not Rated  TV-Y7-FV   0.0152    1.0 -0.4834  0.5137  False\n",
      "Not Rated   Unrated   0.0439    1.0 -0.2954  0.3831  False\n",
      "       PG     PG-13   0.1609  0.001  0.0389  0.2829   True\n",
      "       PG    Passed    0.198 0.4651 -0.0795  0.4755  False\n",
      "       PG     TV-14    0.011    1.0 -0.3267  0.3487  False\n",
      "       PG      TV-G  -0.0571 0.4512 -0.1364  0.0223  False\n",
      "       PG     TV-PG   0.0432 0.9929 -0.0763  0.1627  False\n",
      "       PG      TV-Y   0.0561 0.9676 -0.0734  0.1856  False\n",
      "       PG     TV-Y7   0.1155 0.0632 -0.0028  0.2338  False\n",
      "       PG  TV-Y7-FV   0.0527    1.0 -0.4219  0.5273  False\n",
      "       PG   Unrated   0.0814 0.9996 -0.2216  0.3844  False\n",
      "    PG-13    Passed   0.0371    1.0 -0.2564  0.3306  False\n",
      "    PG-13     TV-14  -0.1499 0.9712 -0.5009  0.2011  False\n",
      "    PG-13      TV-G  -0.2179    0.0 -0.3422 -0.0937   True\n",
      "    PG-13     TV-PG  -0.1177 0.3393 -0.2707  0.0353  False\n",
      "    PG-13      TV-Y  -0.1048 0.6188 -0.2657  0.0562  False\n",
      "    PG-13     TV-Y7  -0.0454 0.9988 -0.1975  0.1067  False\n",
      "    PG-13  TV-Y7-FV  -0.1082 0.9999 -0.5923  0.3759  False\n",
      "    PG-13   Unrated  -0.0795 0.9998 -0.3973  0.2383  False\n",
      "   Passed     TV-14   -0.187 0.9671 -0.6175  0.2435  False\n",
      "   Passed      TV-G  -0.2551 0.1115 -0.5335  0.0234  False\n",
      "   Passed     TV-PG  -0.1548 0.8687 -0.4473  0.1376  False\n",
      "   Passed      TV-Y  -0.1419 0.9329 -0.4386  0.1548  False\n",
      "   Passed     TV-Y7  -0.0825 0.9993 -0.3745  0.2095  False\n",
      "   Passed  TV-Y7-FV  -0.1453 0.9996 -0.6898  0.3992  False\n",
      "   Passed   Unrated  -0.1166 0.9992 -0.5204  0.2872  False\n",
      "    TV-14      TV-G  -0.0681    1.0 -0.4066  0.2705  False\n",
      "    TV-14     TV-PG   0.0322    1.0  -0.318  0.3823  False\n",
      "    TV-14      TV-Y   0.0451    1.0 -0.3086  0.3988  False\n",
      "    TV-14     TV-Y7   0.1045 0.9988 -0.2452  0.4542  False\n",
      "    TV-14  TV-Y7-FV   0.0417    1.0 -0.5359  0.6192  False\n",
      "    TV-14   Unrated   0.0704    1.0  -0.377  0.5177  False\n",
      "     TV-G     TV-PG   0.1002 0.2354 -0.0215   0.222  False\n",
      "     TV-G      TV-Y   0.1132 0.1781 -0.0184  0.2448  False\n",
      "     TV-G     TV-Y7   0.1726 0.0002   0.052  0.2932   True\n",
      "     TV-G  TV-Y7-FV   0.1098 0.9999 -0.3654  0.5849  False\n",
      "     TV-G   Unrated   0.1384 0.9528 -0.1655  0.4424  False\n",
      "    TV-PG      TV-Y   0.0129    1.0 -0.1461   0.172  False\n",
      "    TV-PG     TV-Y7   0.0723 0.9292 -0.0777  0.2224  False\n",
      "    TV-PG  TV-Y7-FV   0.0095    1.0  -0.474   0.493  False\n",
      "    TV-PG   Unrated   0.0382    1.0 -0.2786   0.355  False\n",
      "     TV-Y     TV-Y7   0.0594 0.9901 -0.0988  0.2175  False\n",
      "     TV-Y  TV-Y7-FV  -0.0034    1.0 -0.4895  0.4826  False\n",
      "     TV-Y   Unrated   0.0253    1.0 -0.2954   0.346  False\n",
      "    TV-Y7  TV-Y7-FV  -0.0628    1.0  -0.546  0.4204  False\n",
      "    TV-Y7   Unrated  -0.0341    1.0 -0.3505  0.2822  False\n",
      " TV-Y7-FV   Unrated   0.0287    1.0 -0.5293  0.5867  False\n",
      "----------------------------------------------------------\n"
     ]
    }
   ],
   "source": [
    "postHoc = MultiComparison(disney1['imdbSQRT'],disney1['rated'])\n",
    "postHocResults = postHoc.tukeyhsd()\n",
    "print(postHocResults)"
   ]
  },
  {
   "cell_type": "markdown",
   "id": "3bb9a5e5",
   "metadata": {},
   "source": [
    "#### Majority are false, indicating no significance between rating and imdb_rating"
   ]
  },
  {
   "cell_type": "markdown",
   "id": "7388d1ad",
   "metadata": {},
   "source": [
    "### Means and Conclusions"
   ]
  },
  {
   "cell_type": "code",
   "execution_count": 181,
   "id": "c5696b1e",
   "metadata": {},
   "outputs": [
    {
     "data": {
      "text/html": [
       "<div>\n",
       "<style scoped>\n",
       "    .dataframe tbody tr th:only-of-type {\n",
       "        vertical-align: middle;\n",
       "    }\n",
       "\n",
       "    .dataframe tbody tr th {\n",
       "        vertical-align: top;\n",
       "    }\n",
       "\n",
       "    .dataframe thead th {\n",
       "        text-align: right;\n",
       "    }\n",
       "</style>\n",
       "<table border=\"1\" class=\"dataframe\">\n",
       "  <thead>\n",
       "    <tr style=\"text-align: right;\">\n",
       "      <th></th>\n",
       "      <th>imdb_rating</th>\n",
       "      <th>ratedRecode</th>\n",
       "      <th>imdbSQRT</th>\n",
       "    </tr>\n",
       "    <tr>\n",
       "      <th>rated</th>\n",
       "      <th></th>\n",
       "      <th></th>\n",
       "      <th></th>\n",
       "    </tr>\n",
       "  </thead>\n",
       "  <tbody>\n",
       "    <tr>\n",
       "      <th>Approved</th>\n",
       "      <td>7.093333</td>\n",
       "      <td>0.0</td>\n",
       "      <td>2.662312</td>\n",
       "    </tr>\n",
       "    <tr>\n",
       "      <th>G</th>\n",
       "      <td>6.568293</td>\n",
       "      <td>1.0</td>\n",
       "      <td>2.552480</td>\n",
       "    </tr>\n",
       "    <tr>\n",
       "      <th>Not Rated</th>\n",
       "      <td>6.641176</td>\n",
       "      <td>2.0</td>\n",
       "      <td>2.571657</td>\n",
       "    </tr>\n",
       "    <tr>\n",
       "      <th>PG</th>\n",
       "      <td>6.469677</td>\n",
       "      <td>3.0</td>\n",
       "      <td>2.534129</td>\n",
       "    </tr>\n",
       "    <tr>\n",
       "      <th>PG-13</th>\n",
       "      <td>7.278378</td>\n",
       "      <td>4.0</td>\n",
       "      <td>2.695014</td>\n",
       "    </tr>\n",
       "    <tr>\n",
       "      <th>Passed</th>\n",
       "      <td>7.466667</td>\n",
       "      <td>5.0</td>\n",
       "      <td>2.732138</td>\n",
       "    </tr>\n",
       "    <tr>\n",
       "      <th>TV-14</th>\n",
       "      <td>6.525000</td>\n",
       "      <td>6.0</td>\n",
       "      <td>2.545144</td>\n",
       "    </tr>\n",
       "    <tr>\n",
       "      <th>TV-G</th>\n",
       "      <td>6.173846</td>\n",
       "      <td>7.0</td>\n",
       "      <td>2.477067</td>\n",
       "    </tr>\n",
       "    <tr>\n",
       "      <th>TV-PG</th>\n",
       "      <td>6.687179</td>\n",
       "      <td>8.0</td>\n",
       "      <td>2.577313</td>\n",
       "    </tr>\n",
       "    <tr>\n",
       "      <th>TV-Y</th>\n",
       "      <td>6.740625</td>\n",
       "      <td>9.0</td>\n",
       "      <td>2.590263</td>\n",
       "    </tr>\n",
       "    <tr>\n",
       "      <th>TV-Y7</th>\n",
       "      <td>7.050000</td>\n",
       "      <td>10.0</td>\n",
       "      <td>2.649641</td>\n",
       "    </tr>\n",
       "    <tr>\n",
       "      <th>TV-Y7-FV</th>\n",
       "      <td>6.750000</td>\n",
       "      <td>11.0</td>\n",
       "      <td>2.586818</td>\n",
       "    </tr>\n",
       "    <tr>\n",
       "      <th>Unrated</th>\n",
       "      <td>6.860000</td>\n",
       "      <td>12.0</td>\n",
       "      <td>2.615514</td>\n",
       "    </tr>\n",
       "  </tbody>\n",
       "</table>\n",
       "</div>"
      ],
      "text/plain": [
       "           imdb_rating  ratedRecode  imdbSQRT\n",
       "rated                                        \n",
       "Approved      7.093333          0.0  2.662312\n",
       "G             6.568293          1.0  2.552480\n",
       "Not Rated     6.641176          2.0  2.571657\n",
       "PG            6.469677          3.0  2.534129\n",
       "PG-13         7.278378          4.0  2.695014\n",
       "Passed        7.466667          5.0  2.732138\n",
       "TV-14         6.525000          6.0  2.545144\n",
       "TV-G          6.173846          7.0  2.477067\n",
       "TV-PG         6.687179          8.0  2.577313\n",
       "TV-Y          6.740625          9.0  2.590263\n",
       "TV-Y7         7.050000         10.0  2.649641\n",
       "TV-Y7-FV      6.750000         11.0  2.586818\n",
       "Unrated       6.860000         12.0  2.615514"
      ]
     },
     "execution_count": 181,
     "metadata": {},
     "output_type": "execute_result"
    }
   ],
   "source": [
    "disney1.groupby('rated').mean()"
   ]
  },
  {
   "cell_type": "code",
   "execution_count": 182,
   "id": "6e51ead8",
   "metadata": {},
   "outputs": [],
   "source": [
    "# no significant difference in imdb ratings among content rating"
   ]
  },
  {
   "cell_type": "markdown",
   "id": "eeaa7828",
   "metadata": {},
   "source": [
    "## How do ratings for differ between movies and series?"
   ]
  },
  {
   "cell_type": "code",
   "execution_count": 183,
   "id": "a9dc4067",
   "metadata": {},
   "outputs": [
    {
     "data": {
      "text/html": [
       "<div>\n",
       "<style scoped>\n",
       "    .dataframe tbody tr th:only-of-type {\n",
       "        vertical-align: middle;\n",
       "    }\n",
       "\n",
       "    .dataframe tbody tr th {\n",
       "        vertical-align: top;\n",
       "    }\n",
       "\n",
       "    .dataframe thead th {\n",
       "        text-align: right;\n",
       "    }\n",
       "</style>\n",
       "<table border=\"1\" class=\"dataframe\">\n",
       "  <thead>\n",
       "    <tr style=\"text-align: right;\">\n",
       "      <th></th>\n",
       "      <th>title</th>\n",
       "      <th>type</th>\n",
       "      <th>rated</th>\n",
       "      <th>year</th>\n",
       "      <th>added_at</th>\n",
       "      <th>genre</th>\n",
       "      <th>language</th>\n",
       "      <th>country</th>\n",
       "      <th>imdb_rating</th>\n",
       "    </tr>\n",
       "  </thead>\n",
       "  <tbody>\n",
       "    <tr>\n",
       "      <th>0</th>\n",
       "      <td>10 Things I Hate About You</td>\n",
       "      <td>movie</td>\n",
       "      <td>PG-13</td>\n",
       "      <td>1999</td>\n",
       "      <td>November 12, 2019</td>\n",
       "      <td>Comedy, Drama, Romance</td>\n",
       "      <td>English, French</td>\n",
       "      <td>USA</td>\n",
       "      <td>7.3</td>\n",
       "    </tr>\n",
       "    <tr>\n",
       "      <th>1</th>\n",
       "      <td>101 Dalmatians</td>\n",
       "      <td>movie</td>\n",
       "      <td>G</td>\n",
       "      <td>1996</td>\n",
       "      <td>November 12, 2019</td>\n",
       "      <td>Adventure, Comedy, Crime, Family</td>\n",
       "      <td>English, Spanish</td>\n",
       "      <td>USA, UK</td>\n",
       "      <td>5.7</td>\n",
       "    </tr>\n",
       "    <tr>\n",
       "      <th>2</th>\n",
       "      <td>101 Dalmatians 2: Patch's London Adventure</td>\n",
       "      <td>movie</td>\n",
       "      <td>G</td>\n",
       "      <td>2002</td>\n",
       "      <td>November 12, 2019</td>\n",
       "      <td>Animation, Adventure, Comedy, Family, Musical</td>\n",
       "      <td>English</td>\n",
       "      <td>USA</td>\n",
       "      <td>5.8</td>\n",
       "    </tr>\n",
       "    <tr>\n",
       "      <th>3</th>\n",
       "      <td>102 Dalmatians</td>\n",
       "      <td>movie</td>\n",
       "      <td>G</td>\n",
       "      <td>2000</td>\n",
       "      <td>November 12, 2019</td>\n",
       "      <td>Adventure, Comedy, Family</td>\n",
       "      <td>English</td>\n",
       "      <td>USA, UK</td>\n",
       "      <td>4.9</td>\n",
       "    </tr>\n",
       "    <tr>\n",
       "      <th>4</th>\n",
       "      <td>12 Dates of Christmas</td>\n",
       "      <td>movie</td>\n",
       "      <td>PG</td>\n",
       "      <td>2011</td>\n",
       "      <td>November 12, 2019</td>\n",
       "      <td>Comedy, Fantasy, Romance</td>\n",
       "      <td>English</td>\n",
       "      <td>USA</td>\n",
       "      <td>6.3</td>\n",
       "    </tr>\n",
       "  </tbody>\n",
       "</table>\n",
       "</div>"
      ],
      "text/plain": [
       "                                        title   type  rated  year  \\\n",
       "0                  10 Things I Hate About You  movie  PG-13  1999   \n",
       "1                              101 Dalmatians  movie      G  1996   \n",
       "2  101 Dalmatians 2: Patch's London Adventure  movie      G  2002   \n",
       "3                              102 Dalmatians  movie      G  2000   \n",
       "4                       12 Dates of Christmas  movie     PG  2011   \n",
       "\n",
       "            added_at                                          genre  \\\n",
       "0  November 12, 2019                         Comedy, Drama, Romance   \n",
       "1  November 12, 2019               Adventure, Comedy, Crime, Family   \n",
       "2  November 12, 2019  Animation, Adventure, Comedy, Family, Musical   \n",
       "3  November 12, 2019                      Adventure, Comedy, Family   \n",
       "4  November 12, 2019                       Comedy, Fantasy, Romance   \n",
       "\n",
       "           language  country  imdb_rating  \n",
       "0   English, French      USA          7.3  \n",
       "1  English, Spanish  USA, UK          5.7  \n",
       "2           English      USA          5.8  \n",
       "3           English  USA, UK          4.9  \n",
       "4           English      USA          6.3  "
      ]
     },
     "execution_count": 183,
     "metadata": {},
     "output_type": "execute_result"
    }
   ],
   "source": [
    "newdisney.head()"
   ]
  },
  {
   "cell_type": "markdown",
   "id": "32c73b71",
   "metadata": {},
   "source": [
    "### Independent Chi-Square"
   ]
  },
  {
   "cell_type": "markdown",
   "id": "b0f11713",
   "metadata": {},
   "source": [
    "#### Test assumptions and run analysis"
   ]
  },
  {
   "cell_type": "markdown",
   "id": "2a96ab90",
   "metadata": {},
   "source": [
    "### Create Contingency Table for movies"
   ]
  },
  {
   "cell_type": "code",
   "execution_count": 185,
   "id": "2ee6f546",
   "metadata": {},
   "outputs": [],
   "source": [
    "disneymovie_crosstab = pd.crosstab(newdisney['rated'],[newdisney.type.str.contains('movie')])"
   ]
  },
  {
   "cell_type": "code",
   "execution_count": 186,
   "id": "2e3e860e",
   "metadata": {},
   "outputs": [
    {
     "data": {
      "text/html": [
       "<div>\n",
       "<style scoped>\n",
       "    .dataframe tbody tr th:only-of-type {\n",
       "        vertical-align: middle;\n",
       "    }\n",
       "\n",
       "    .dataframe tbody tr th {\n",
       "        vertical-align: top;\n",
       "    }\n",
       "\n",
       "    .dataframe thead th {\n",
       "        text-align: right;\n",
       "    }\n",
       "</style>\n",
       "<table border=\"1\" class=\"dataframe\">\n",
       "  <thead>\n",
       "    <tr style=\"text-align: right;\">\n",
       "      <th>type</th>\n",
       "      <th>False</th>\n",
       "      <th>True</th>\n",
       "    </tr>\n",
       "    <tr>\n",
       "      <th>rated</th>\n",
       "      <th></th>\n",
       "      <th></th>\n",
       "    </tr>\n",
       "  </thead>\n",
       "  <tbody>\n",
       "    <tr>\n",
       "      <th>Approved</th>\n",
       "      <td>0</td>\n",
       "      <td>60</td>\n",
       "    </tr>\n",
       "    <tr>\n",
       "      <th>G</th>\n",
       "      <td>1</td>\n",
       "      <td>204</td>\n",
       "    </tr>\n",
       "    <tr>\n",
       "      <th>Not Rated</th>\n",
       "      <td>1</td>\n",
       "      <td>16</td>\n",
       "    </tr>\n",
       "    <tr>\n",
       "      <th>PG</th>\n",
       "      <td>0</td>\n",
       "      <td>155</td>\n",
       "    </tr>\n",
       "    <tr>\n",
       "      <th>PG-13</th>\n",
       "      <td>0</td>\n",
       "      <td>37</td>\n",
       "    </tr>\n",
       "    <tr>\n",
       "      <th>Passed</th>\n",
       "      <td>0</td>\n",
       "      <td>6</td>\n",
       "    </tr>\n",
       "    <tr>\n",
       "      <th>TV-14</th>\n",
       "      <td>3</td>\n",
       "      <td>1</td>\n",
       "    </tr>\n",
       "    <tr>\n",
       "      <th>TV-G</th>\n",
       "      <td>41</td>\n",
       "      <td>89</td>\n",
       "    </tr>\n",
       "    <tr>\n",
       "      <th>TV-PG</th>\n",
       "      <td>16</td>\n",
       "      <td>23</td>\n",
       "    </tr>\n",
       "    <tr>\n",
       "      <th>TV-Y</th>\n",
       "      <td>32</td>\n",
       "      <td>0</td>\n",
       "    </tr>\n",
       "    <tr>\n",
       "      <th>TV-Y7</th>\n",
       "      <td>37</td>\n",
       "      <td>3</td>\n",
       "    </tr>\n",
       "    <tr>\n",
       "      <th>TV-Y7-FV</th>\n",
       "      <td>1</td>\n",
       "      <td>1</td>\n",
       "    </tr>\n",
       "    <tr>\n",
       "      <th>Unrated</th>\n",
       "      <td>4</td>\n",
       "      <td>1</td>\n",
       "    </tr>\n",
       "  </tbody>\n",
       "</table>\n",
       "</div>"
      ],
      "text/plain": [
       "type       False  True\n",
       "rated                 \n",
       "Approved       0    60\n",
       "G              1   204\n",
       "Not Rated      1    16\n",
       "PG             0   155\n",
       "PG-13          0    37\n",
       "Passed         0     6\n",
       "TV-14          3     1\n",
       "TV-G          41    89\n",
       "TV-PG         16    23\n",
       "TV-Y          32     0\n",
       "TV-Y7         37     3\n",
       "TV-Y7-FV       1     1\n",
       "Unrated        4     1"
      ]
     },
     "execution_count": 186,
     "metadata": {},
     "output_type": "execute_result"
    }
   ],
   "source": [
    "disneymovie_crosstab"
   ]
  },
  {
   "cell_type": "code",
   "execution_count": 187,
   "id": "68aa354e",
   "metadata": {},
   "outputs": [],
   "source": [
    "# most movie content is rated G or PG"
   ]
  },
  {
   "cell_type": "markdown",
   "id": "d8fd4a0d",
   "metadata": {},
   "source": [
    "#### Run Independent Chi-Square"
   ]
  },
  {
   "cell_type": "code",
   "execution_count": 188,
   "id": "33bfdc6d",
   "metadata": {},
   "outputs": [
    {
     "data": {
      "text/plain": [
       "(439.374978028137,\n",
       " 1.701112663409862e-86,\n",
       " 12,\n",
       " array([[ 11.14754098,  48.85245902],\n",
       "        [ 38.08743169, 166.91256831],\n",
       "        [  3.15846995,  13.84153005],\n",
       "        [ 28.79781421, 126.20218579],\n",
       "        [  6.87431694,  30.12568306],\n",
       "        [  1.1147541 ,   4.8852459 ],\n",
       "        [  0.7431694 ,   3.2568306 ],\n",
       "        [ 24.15300546, 105.84699454],\n",
       "        [  7.24590164,  31.75409836],\n",
       "        [  5.94535519,  26.05464481],\n",
       "        [  7.43169399,  32.56830601],\n",
       "        [  0.3715847 ,   1.6284153 ],\n",
       "        [  0.92896175,   4.07103825]]))"
      ]
     },
     "execution_count": 188,
     "metadata": {},
     "output_type": "execute_result"
    }
   ],
   "source": [
    "stats.chi2_contingency(disneymovie_crosstab)"
   ]
  },
  {
   "cell_type": "code",
   "execution_count": 189,
   "id": "24b2b838",
   "metadata": {},
   "outputs": [],
   "source": [
    "# appears to be a significant relationship between rating and movies"
   ]
  },
  {
   "cell_type": "markdown",
   "id": "54d5c150",
   "metadata": {},
   "source": [
    "### Create Contingency Table for Series"
   ]
  },
  {
   "cell_type": "code",
   "execution_count": 190,
   "id": "defc4552",
   "metadata": {},
   "outputs": [],
   "source": [
    "disneyseries_crosstab = pd.crosstab(newdisney['rated'],[newdisney.type.str.contains('series')])"
   ]
  },
  {
   "cell_type": "code",
   "execution_count": 191,
   "id": "7d57555d",
   "metadata": {},
   "outputs": [
    {
     "data": {
      "text/html": [
       "<div>\n",
       "<style scoped>\n",
       "    .dataframe tbody tr th:only-of-type {\n",
       "        vertical-align: middle;\n",
       "    }\n",
       "\n",
       "    .dataframe tbody tr th {\n",
       "        vertical-align: top;\n",
       "    }\n",
       "\n",
       "    .dataframe thead th {\n",
       "        text-align: right;\n",
       "    }\n",
       "</style>\n",
       "<table border=\"1\" class=\"dataframe\">\n",
       "  <thead>\n",
       "    <tr style=\"text-align: right;\">\n",
       "      <th>type</th>\n",
       "      <th>False</th>\n",
       "      <th>True</th>\n",
       "    </tr>\n",
       "    <tr>\n",
       "      <th>rated</th>\n",
       "      <th></th>\n",
       "      <th></th>\n",
       "    </tr>\n",
       "  </thead>\n",
       "  <tbody>\n",
       "    <tr>\n",
       "      <th>Approved</th>\n",
       "      <td>60</td>\n",
       "      <td>0</td>\n",
       "    </tr>\n",
       "    <tr>\n",
       "      <th>G</th>\n",
       "      <td>204</td>\n",
       "      <td>1</td>\n",
       "    </tr>\n",
       "    <tr>\n",
       "      <th>Not Rated</th>\n",
       "      <td>17</td>\n",
       "      <td>0</td>\n",
       "    </tr>\n",
       "    <tr>\n",
       "      <th>PG</th>\n",
       "      <td>155</td>\n",
       "      <td>0</td>\n",
       "    </tr>\n",
       "    <tr>\n",
       "      <th>PG-13</th>\n",
       "      <td>37</td>\n",
       "      <td>0</td>\n",
       "    </tr>\n",
       "    <tr>\n",
       "      <th>Passed</th>\n",
       "      <td>6</td>\n",
       "      <td>0</td>\n",
       "    </tr>\n",
       "    <tr>\n",
       "      <th>TV-14</th>\n",
       "      <td>1</td>\n",
       "      <td>3</td>\n",
       "    </tr>\n",
       "    <tr>\n",
       "      <th>TV-G</th>\n",
       "      <td>90</td>\n",
       "      <td>40</td>\n",
       "    </tr>\n",
       "    <tr>\n",
       "      <th>TV-PG</th>\n",
       "      <td>24</td>\n",
       "      <td>15</td>\n",
       "    </tr>\n",
       "    <tr>\n",
       "      <th>TV-Y</th>\n",
       "      <td>0</td>\n",
       "      <td>32</td>\n",
       "    </tr>\n",
       "    <tr>\n",
       "      <th>TV-Y7</th>\n",
       "      <td>3</td>\n",
       "      <td>37</td>\n",
       "    </tr>\n",
       "    <tr>\n",
       "      <th>TV-Y7-FV</th>\n",
       "      <td>1</td>\n",
       "      <td>1</td>\n",
       "    </tr>\n",
       "    <tr>\n",
       "      <th>Unrated</th>\n",
       "      <td>5</td>\n",
       "      <td>0</td>\n",
       "    </tr>\n",
       "  </tbody>\n",
       "</table>\n",
       "</div>"
      ],
      "text/plain": [
       "type       False  True\n",
       "rated                 \n",
       "Approved      60     0\n",
       "G            204     1\n",
       "Not Rated     17     0\n",
       "PG           155     0\n",
       "PG-13         37     0\n",
       "Passed         6     0\n",
       "TV-14          1     3\n",
       "TV-G          90    40\n",
       "TV-PG         24    15\n",
       "TV-Y           0    32\n",
       "TV-Y7          3    37\n",
       "TV-Y7-FV       1     1\n",
       "Unrated        5     0"
      ]
     },
     "execution_count": 191,
     "metadata": {},
     "output_type": "execute_result"
    }
   ],
   "source": [
    "disneyseries_crosstab"
   ]
  },
  {
   "cell_type": "code",
   "execution_count": 192,
   "id": "d18c4a8f",
   "metadata": {},
   "outputs": [],
   "source": [
    "# most content is rated TV-G, TV-Y7, or TV-Y"
   ]
  },
  {
   "cell_type": "markdown",
   "id": "2b980fc5",
   "metadata": {},
   "source": [
    "#### Run Independent Chi-Square"
   ]
  },
  {
   "cell_type": "code",
   "execution_count": 193,
   "id": "07281508",
   "metadata": {},
   "outputs": [
    {
     "data": {
      "text/plain": [
       "(443.0806099525497,\n",
       " 2.7811131497610148e-87,\n",
       " 12,\n",
       " array([[ 49.42622951,  10.57377049],\n",
       "        [168.87295082,  36.12704918],\n",
       "        [ 14.00409836,   2.99590164],\n",
       "        [127.68442623,  27.31557377],\n",
       "        [ 30.4795082 ,   6.5204918 ],\n",
       "        [  4.94262295,   1.05737705],\n",
       "        [  3.29508197,   0.70491803],\n",
       "        [107.09016393,  22.90983607],\n",
       "        [ 32.12704918,   6.87295082],\n",
       "        [ 26.36065574,   5.63934426],\n",
       "        [ 32.95081967,   7.04918033],\n",
       "        [  1.64754098,   0.35245902],\n",
       "        [  4.11885246,   0.88114754]]))"
      ]
     },
     "execution_count": 193,
     "metadata": {},
     "output_type": "execute_result"
    }
   ],
   "source": [
    "stats.chi2_contingency(disneyseries_crosstab)"
   ]
  },
  {
   "cell_type": "code",
   "execution_count": 194,
   "id": "a6fe5fde",
   "metadata": {},
   "outputs": [],
   "source": [
    "# another significance between type and content rating"
   ]
  },
  {
   "cell_type": "markdown",
   "id": "70229cef",
   "metadata": {},
   "source": [
    "### Movies and Series appear to have different ratings that will appear in one and not the other"
   ]
  },
  {
   "cell_type": "code",
   "execution_count": null,
   "id": "113abb1d",
   "metadata": {},
   "outputs": [],
   "source": []
  }
 ],
 "metadata": {
  "kernelspec": {
   "display_name": "Python 3 (ipykernel)",
   "language": "python",
   "name": "python3"
  },
  "language_info": {
   "codemirror_mode": {
    "name": "ipython",
    "version": 3
   },
   "file_extension": ".py",
   "mimetype": "text/x-python",
   "name": "python",
   "nbconvert_exporter": "python",
   "pygments_lexer": "ipython3",
   "version": "3.10.2"
  }
 },
 "nbformat": 4,
 "nbformat_minor": 5
}
